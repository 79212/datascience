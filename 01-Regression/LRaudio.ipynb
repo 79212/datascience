{
 "cells": [
  {
   "cell_type": "markdown",
   "metadata": {},
   "source": [
    "# Linear regression - audio"
   ]
  },
  {
   "cell_type": "markdown",
   "metadata": {},
   "source": [
    "Use linear regression to recover or 'fill out' a completely deleted portion of an audio file!\n",
    "This will be using The [FSDD, Free-Spoken-Digits-Dataset](https://github.com/Jakobovski/free-spoken-digit-dataset), an audio dataset put together by Zohar Jackson:\n",
    "cleaned up audio (no dead-space, roughly same length, same bitrate, same samples-per-second rate, same speaker, etc) samples ready for machine learning."
   ]
  },
  {
   "cell_type": "markdown",
   "metadata": {},
   "source": [
    "## get the data"
   ]
  },
  {
   "cell_type": "code",
   "execution_count": 47,
   "metadata": {
    "collapsed": true
   },
   "outputs": [],
   "source": [
    "import os\n",
    "import scipy.io.wavfile as wavfile\n",
    "\n",
    "\n",
    "zero = []\n",
    "directory = \"../datasets/free-spoken-digit-dataset-master/recordings/\"\n",
    "for fname in os.listdir(directory):\n",
    "    if fname.startswith(\"0_jackson\"):\n",
    "        fullname = os.path.join(directory, fname)\n",
    "        sample_rate, data = wavfile.read(fullname)\n",
    "        zero.append( data )\n"
   ]
  },
  {
   "cell_type": "markdown",
   "metadata": {},
   "source": [
    "There are 500 recordings, 50 of each digit.  \n",
    "Each .wav file is actually just a bunch of numeric samples, \"sampled\"\n",
    "from the analog signal. [Sampling](https://en.wikipedia.org/wiki/Sampling_%28signal_processing%29) is a type of discretization. When we mention 'samples', we mean observations. When we mention 'audio samples', we mean the actually \"features\" of the audio file.\n",
    "\n",
    "The goal of this notebook is to use multi-target, linear regression to generate by extrapolation, the missing portion of the test audio file.\n",
    "\n",
    "Each one audio_sample features will be the output of an equation,\n",
    "which is a function of the provided portion of the audio_samples:\n",
    "\n",
    "   missing_samples = f(provided_samples)"
   ]
  },
  {
   "cell_type": "markdown",
   "metadata": {},
   "source": [
    "## prepare the data"
   ]
  },
  {
   "cell_type": "markdown",
   "metadata": {},
   "source": [
    "Convert zero into a DataFrame and set the dtype to np.int16, since the input audio files are 16 bits per sample. This is important otherwise the produced audio samples will be encoded as 64 bits per sample and will be too short."
   ]
  },
  {
   "cell_type": "code",
   "execution_count": 48,
   "metadata": {
    "collapsed": true
   },
   "outputs": [],
   "source": [
    "import numpy as np\n",
    "import pandas as pd\n",
    "\n",
    "zeroDF = pd.DataFrame(zero, dtype=np.int16)"
   ]
  },
  {
   "cell_type": "code",
   "execution_count": 49,
   "metadata": {},
   "outputs": [
    {
     "name": "stdout",
     "output_type": "stream",
     "text": [
      "<class 'pandas.core.frame.DataFrame'>\n",
      "RangeIndex: 50 entries, 0 to 49\n",
      "Columns: 6273 entries, 0 to 6272\n",
      "dtypes: float64(2186), int16(4087)\n",
      "memory usage: 1.2 MB\n"
     ]
    }
   ],
   "source": [
    "zeroDF.info()"
   ]
  },
  {
   "cell_type": "markdown",
   "metadata": {},
   "source": [
    "Since these audio clips are unfortunately not length-normalized, we're going to have to just hard chop them to all be the same length.\n",
    "Since Pandas would have inserted NANs at any spot to make zero a \n",
    "perfectly rectangular [n_observed_samples, n_audio_samples] array, do a dropna on the Y axis here. Then, convert one back into an NDArray using .values"
   ]
  },
  {
   "cell_type": "code",
   "execution_count": 50,
   "metadata": {},
   "outputs": [
    {
     "name": "stdout",
     "output_type": "stream",
     "text": [
      "Preprocessing data: dropping all NaN\n"
     ]
    }
   ],
   "source": [
    "if zeroDF.isnull().values.any() == True:\n",
    "  print(\"Preprocessing data: dropping all NaN\")\n",
    "  zeroDF.dropna(axis=1, inplace=True)\n",
    "else:\n",
    "  print(\"Preprocessing data: No NaN found!\")\n",
    "\n",
    "zero = zeroDF.values # this is a list"
   ]
  },
  {
   "cell_type": "code",
   "execution_count": 51,
   "metadata": {
    "collapsed": true
   },
   "outputs": [],
   "source": [
    "n_audio_samples = zero.shape[1]"
   ]
  },
  {
   "cell_type": "code",
   "execution_count": 52,
   "metadata": {},
   "outputs": [
    {
     "data": {
      "text/plain": [
       "4087"
      ]
     },
     "execution_count": 52,
     "metadata": {},
     "output_type": "execute_result"
    }
   ],
   "source": [
    "n_audio_samples"
   ]
  },
  {
   "cell_type": "markdown",
   "metadata": {},
   "source": [
    "## split the data into training and testing sets"
   ]
  },
  {
   "cell_type": "markdown",
   "metadata": {},
   "source": [
    "There are 50 takes of each clip. You want to pull out just one of them, randomly, and that one will NOT be used in the training of the model. In other words, the one file we'll be testing / scoring on will be an unseen sample, independent to the rest of the training set."
   ]
  },
  {
   "cell_type": "code",
   "execution_count": 53,
   "metadata": {
    "collapsed": true
   },
   "outputs": [],
   "source": [
    "from sklearn.utils.validation import check_random_state\n",
    "\n",
    "rng   = check_random_state(7) \n",
    "random_idx = rng.randint(zero.shape[0])\n",
    "\n",
    "test  = zero[random_idx] # the test sample\n",
    "train = np.delete(zero, [random_idx], axis=0)"
   ]
  },
  {
   "cell_type": "code",
   "execution_count": 54,
   "metadata": {},
   "outputs": [
    {
     "name": "stdout",
     "output_type": "stream",
     "text": [
      "(49, 4087)\n",
      "(4087,)\n"
     ]
    }
   ],
   "source": [
    "print(train.shape)\n",
    "print(test.shape)"
   ]
  },
  {
   "cell_type": "markdown",
   "metadata": {},
   "source": [
    "Save the original 'test' clip, the one you're about to delete half of, so that you can compare it to the 'patched' clip once you've generated it. \n",
    "This assume the sample rate is always the same for all samples"
   ]
  },
  {
   "cell_type": "code",
   "execution_count": 55,
   "metadata": {},
   "outputs": [],
   "source": [
    "wavfile.write('../outputs/OriginalTestClip.wav', sample_rate, test)"
   ]
  },
  {
   "cell_type": "markdown",
   "metadata": {},
   "source": [
    "Embedding the audio file.  \n",
    "Note that this is not working directly in GitHub (I think all JavaScript is stripped out), fork it or download it to play the audio"
   ]
  },
  {
   "cell_type": "code",
   "execution_count": 73,
   "metadata": {},
   "outputs": [
    {
     "data": {
      "text/html": [
       "\n",
       "                <audio controls=\"controls\" >\n",
       "                    <source src=\"data:audio/x-wav;base64,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\" type=\"audio/x-wav\" />\n",
       "                    Your browser does not support the audio element.\n",
       "                </audio>\n",
       "              "
      ],
      "text/plain": [
       "<IPython.lib.display.Audio object>"
      ]
     },
     "execution_count": 73,
     "metadata": {},
     "output_type": "execute_result"
    }
   ],
   "source": [
    "from IPython.display import Audio\n",
    "Audio(\"../outputs/OriginalTestClip.wav\")"
   ]
  },
  {
   "cell_type": "markdown",
   "metadata": {},
   "source": [
    "## carve out the labels Y"
   ]
  },
  {
   "cell_type": "markdown",
   "metadata": {},
   "source": [
    "The data will have two parts: X and y (the true labels).  \n",
    "X is going to be the first portion of the audio file, which we will be providing the computer as input (the \"chopped\" audio).  \n",
    "y, the \"label\", is going to be the remaining portion of the audio file.   In this way the computer will use linear regression to derive the missing portion of the sound file based off of the training data it has received! "
   ]
  },
  {
   "cell_type": "markdown",
   "metadata": {},
   "source": [
    "_ProvidedPortion_ is how much of the audio file will be provided, in percent. The remaining percent of the file will be generated via linear extrapolation.  "
   ]
  },
  {
   "cell_type": "code",
   "execution_count": 57,
   "metadata": {
    "collapsed": true
   },
   "outputs": [],
   "source": [
    "Provided_Portion = 0.5 # let's delete half of the audio\n",
    "\n",
    "test_samples = int(Provided_Portion * n_audio_samples)\n",
    "X_test = test[0:test_samples] # first ones"
   ]
  },
  {
   "cell_type": "code",
   "execution_count": 58,
   "metadata": {},
   "outputs": [
    {
     "data": {
      "text/html": [
       "\n",
       "                <audio controls=\"controls\" >\n",
       "                    <source src=\"data:audio/wav;base64,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\" type=\"audio/wav\" />\n",
       "                    Your browser does not support the audio element.\n",
       "                </audio>\n",
       "              "
      ],
      "text/plain": [
       "<IPython.lib.display.Audio object>"
      ]
     },
     "execution_count": 58,
     "metadata": {},
     "output_type": "execute_result"
    }
   ],
   "source": [
    "IPython.display.Audio(data=X_test, rate= sample_rate)"
   ]
  },
  {
   "cell_type": "markdown",
   "metadata": {},
   "source": [
    "Can you hear it? Now it's only the first syllable, \"ze\" ...  \n",
    "But we can even delete more and leave only the first quarter!"
   ]
  },
  {
   "cell_type": "code",
   "execution_count": 59,
   "metadata": {},
   "outputs": [],
   "source": [
    "Provided_Portion = 0.25 # let's delete three quarters of the audio!\n",
    "\n",
    "test_samples = int(Provided_Portion * n_audio_samples)\n",
    "X_test = test[0:test_samples] # first ones"
   ]
  },
  {
   "cell_type": "code",
   "execution_count": 60,
   "metadata": {},
   "outputs": [
    {
     "data": {
      "text/html": [
       "\n",
       "                <audio controls=\"controls\" >\n",
       "                    <source src=\"data:audio/x-wav;base64,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\" type=\"audio/x-wav\" />\n",
       "                    Your browser does not support the audio element.\n",
       "                </audio>\n",
       "              "
      ],
      "text/plain": [
       "<IPython.lib.display.Audio object>"
      ]
     },
     "execution_count": 60,
     "metadata": {},
     "output_type": "execute_result"
    }
   ],
   "source": [
    "wavfile.write('../outputs/ChoppedTestClip.wav', sample_rate, X_test)\n",
    "IPython.display.Audio(\"../outputs/ChoppedTestClip.wav\")"
   ]
  },
  {
   "cell_type": "markdown",
   "metadata": {},
   "source": [
    "Almost unrecognisable.  \n",
    "Will the linear regression model be able to reconstruct the audio?"
   ]
  },
  {
   "cell_type": "code",
   "execution_count": 61,
   "metadata": {
    "collapsed": true
   },
   "outputs": [],
   "source": [
    "y_test = test[test_samples:] # remaining audio part is the label"
   ]
  },
  {
   "cell_type": "markdown",
   "metadata": {},
   "source": [
    "Duplicate the same process for X_train, y_train."
   ]
  },
  {
   "cell_type": "code",
   "execution_count": 62,
   "metadata": {
    "collapsed": true
   },
   "outputs": [],
   "source": [
    "X_train = train[:, 0:test_samples] # first ones: data\n",
    "y_train = train[:, test_samples:]  # remaining ones: label"
   ]
  },
  {
   "cell_type": "markdown",
   "metadata": {},
   "source": [
    "SciKit-Learn gets mad if you don't supply your training data in the form of a 2D arrays: [n_samples, n_features].\n",
    "\n",
    "So if you only have one SAMPLE, such as is our case with X_test, and y_test, then by calling .reshape(1, -1), you can turn [n_features] into [1, n_features]."
   ]
  },
  {
   "cell_type": "code",
   "execution_count": 63,
   "metadata": {
    "collapsed": true
   },
   "outputs": [],
   "source": [
    "X_test = X_test.reshape(1,-1)\n",
    "y_test = y_test.reshape(1,-1)"
   ]
  },
  {
   "cell_type": "markdown",
   "metadata": {},
   "source": [
    "## Create and train the linear regression model "
   ]
  },
  {
   "cell_type": "code",
   "execution_count": 64,
   "metadata": {
    "collapsed": true
   },
   "outputs": [],
   "source": [
    "from sklearn import linear_model\n",
    "\n",
    "model = linear_model.LinearRegression()"
   ]
  },
  {
   "cell_type": "code",
   "execution_count": 65,
   "metadata": {},
   "outputs": [
    {
     "data": {
      "text/plain": [
       "LinearRegression(copy_X=True, fit_intercept=True, n_jobs=1, normalize=False)"
      ]
     },
     "execution_count": 65,
     "metadata": {},
     "output_type": "execute_result"
    }
   ],
   "source": [
    "model.fit(X_train, y_train)"
   ]
  },
  {
   "cell_type": "markdown",
   "metadata": {},
   "source": [
    "Use the model to predict the 'label' of X_test.  \n",
    "SciKit-Learn will use float64 to generate the predictions so let's take those values back to int16"
   ]
  },
  {
   "cell_type": "code",
   "execution_count": 66,
   "metadata": {
    "collapsed": true
   },
   "outputs": [],
   "source": [
    "y_test_prediction = model.predict(X_test)"
   ]
  },
  {
   "cell_type": "code",
   "execution_count": 67,
   "metadata": {
    "collapsed": true
   },
   "outputs": [],
   "source": [
    "y_test_prediction = y_test_prediction.astype(dtype=np.int16)"
   ]
  },
  {
   "cell_type": "markdown",
   "metadata": {},
   "source": [
    "## Evaluate the result"
   ]
  },
  {
   "cell_type": "code",
   "execution_count": 68,
   "metadata": {},
   "outputs": [
    {
     "name": "stdout",
     "output_type": "stream",
     "text": [
      "Extrapolation R^2 Score:  0.0\n"
     ]
    }
   ],
   "source": [
    "score = model.score(X_test, y_test) # test samples X and true values for X\n",
    "print (\"Extrapolation R^2 Score: \", score)"
   ]
  },
  {
   "cell_type": "markdown",
   "metadata": {},
   "source": [
    "Obviously, if you look only at Rsquared it seems that it was a totally useless result.  \n",
    "But let's listen to the generated audio."
   ]
  },
  {
   "cell_type": "markdown",
   "metadata": {},
   "source": [
    "First, take the first Provided_Portion portion of the test clip, the part you fed into your linear regression model. Then, stitch that\n",
    "together with the abomination the predictor model generated for you,\n",
    "and then save the completed audio clip:"
   ]
  },
  {
   "cell_type": "code",
   "execution_count": 69,
   "metadata": {
    "collapsed": true
   },
   "outputs": [],
   "source": [
    "completed_clip = np.hstack((X_test, y_test_prediction))\n",
    "wavfile.write('../outputs/ExtrapolatedClip.wav', sample_rate, completed_clip[0])"
   ]
  },
  {
   "cell_type": "code",
   "execution_count": 70,
   "metadata": {},
   "outputs": [
    {
     "data": {
      "text/html": [
       "\n",
       "                <audio controls=\"controls\" >\n",
       "                    <source src=\"data:audio/x-wav;base64,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\" type=\"audio/x-wav\" />\n",
       "                    Your browser does not support the audio element.\n",
       "                </audio>\n",
       "              "
      ],
      "text/plain": [
       "<IPython.lib.display.Audio object>"
      ]
     },
     "execution_count": 70,
     "metadata": {},
     "output_type": "execute_result"
    }
   ],
   "source": [
    "IPython.display.Audio(\"../outputs/ExtrapolatedClip.wav\")"
   ]
  },
  {
   "cell_type": "markdown",
   "metadata": {},
   "source": [
    "Well, not bad!"
   ]
  }
 ],
 "metadata": {
  "anaconda-cloud": {},
  "kernelspec": {
   "display_name": "Python [conda root]",
   "language": "python",
   "name": "conda-root-py"
  },
  "language_info": {
   "codemirror_mode": {
    "name": "ipython",
    "version": 3
   },
   "file_extension": ".py",
   "mimetype": "text/x-python",
   "name": "python",
   "nbconvert_exporter": "python",
   "pygments_lexer": "ipython3",
   "version": "3.5.2"
  }
 },
 "nbformat": 4,
 "nbformat_minor": 1
}
