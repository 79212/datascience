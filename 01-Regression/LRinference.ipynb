{
 "cells": [
  {
   "cell_type": "markdown",
   "metadata": {},
   "source": [
    "# Inference statistics for linear regression"
   ]
  },
  {
   "cell_type": "markdown",
   "metadata": {},
   "source": [
    "We have seen how we can [fit a model](https://github.com/Mashimo/datascience/blob/master/01-Regression/moneyball.ipynb) to existing data using [linear regression](https://github.com/Mashimo/datascience/blob/master/01-Regression/LinearRegression.ipynb). Now we want to assess how well the model describes those data points (every Outcome = Model + Error) and will use some statistics for it. \n",
    "\n",
    "As an example we access some available diamond data: prices in Singapore dollars and weights in carats (the standard measure of diamond mass, equal to 0.2 g).  \n",
    "The diamond data can be downloaded from [the Journal of Statistics Education](http://ww2.amstat.org/publications/jse/jse_data_archive.htm)."
   ]
  },
  {
   "cell_type": "code",
   "execution_count": 1,
   "metadata": {
    "collapsed": true
   },
   "outputs": [],
   "source": [
    "import pandas as pd"
   ]
  },
  {
   "cell_type": "code",
   "execution_count": 3,
   "metadata": {
    "collapsed": false
   },
   "outputs": [],
   "source": [
    "diamondData = pd.read_csv(\"diamond.dat.txt\", delim_whitespace=True, header=None, names=[\"carats\",\"price\"])"
   ]
  },
  {
   "cell_type": "code",
   "execution_count": 4,
   "metadata": {
    "collapsed": false
   },
   "outputs": [
    {
     "data": {
      "text/html": [
       "<div>\n",
       "<table border=\"1\" class=\"dataframe\">\n",
       "  <thead>\n",
       "    <tr style=\"text-align: right;\">\n",
       "      <th></th>\n",
       "      <th>carats</th>\n",
       "      <th>price</th>\n",
       "    </tr>\n",
       "  </thead>\n",
       "  <tbody>\n",
       "    <tr>\n",
       "      <th>0</th>\n",
       "      <td>0.17</td>\n",
       "      <td>355</td>\n",
       "    </tr>\n",
       "    <tr>\n",
       "      <th>1</th>\n",
       "      <td>0.16</td>\n",
       "      <td>328</td>\n",
       "    </tr>\n",
       "    <tr>\n",
       "      <th>2</th>\n",
       "      <td>0.17</td>\n",
       "      <td>350</td>\n",
       "    </tr>\n",
       "    <tr>\n",
       "      <th>3</th>\n",
       "      <td>0.18</td>\n",
       "      <td>325</td>\n",
       "    </tr>\n",
       "    <tr>\n",
       "      <th>4</th>\n",
       "      <td>0.25</td>\n",
       "      <td>642</td>\n",
       "    </tr>\n",
       "  </tbody>\n",
       "</table>\n",
       "</div>"
      ],
      "text/plain": [
       "   carats  price\n",
       "0    0.17    355\n",
       "1    0.16    328\n",
       "2    0.17    350\n",
       "3    0.18    325\n",
       "4    0.25    642"
      ]
     },
     "execution_count": 4,
     "metadata": {},
     "output_type": "execute_result"
    }
   ],
   "source": [
    "diamondData.head()"
   ]
  },
  {
   "cell_type": "markdown",
   "metadata": {},
   "source": [
    "# Fit a model"
   ]
  },
  {
   "cell_type": "markdown",
   "metadata": {},
   "source": [
    "## Is there a relationship between the diamond price and its weight?"
   ]
  },
  {
   "cell_type": "markdown",
   "metadata": {},
   "source": [
    "Our first goal should be to determine whether the data provide evidence of an association between price and carats. If the evidence is weak, then one might argue that bigger diamonds are not better!\n",
    "\n",
    "To evaluate the model we will use a special Python package, **statsmodel**, which has nice available functions for this.  \n",
    "Statsmodel is a package based on the original - later removed - statistics module of SciPy (Scientific Python) by Jonathan Taylor, corrected, improved, tested and released as a new package during the Google Summer of Code 2009.  "
   ]
  },
  {
   "cell_type": "markdown",
   "metadata": {},
   "source": [
    "![statsmodels](statsmodels_hybi_banner.png)"
   ]
  },
  {
   "cell_type": "code",
   "execution_count": 5,
   "metadata": {
    "collapsed": true
   },
   "outputs": [],
   "source": [
    "import statsmodels.api as sm"
   ]
  },
  {
   "cell_type": "markdown",
   "metadata": {},
   "source": [
    "Since statsmodels offers also functions to fit a linear regression model, we do not need to import and use *sklearn* to fit the model but we can do everything with *statsmodels*.  \n",
    "We will use its function *OLS()* that fits a linear regression based on the Ordinary Least Squares algorithm.  \n",
    "\n",
    "The model we want to get is :  \n",
    "y_hat = beta0 + beta1 * X\n",
    "\n",
    "where y_hat is the estimated Diamond Price (the dependent variable) and x is the diamond Weight (the independent variable).  \n",
    "\n",
    "An intercept is not included by default and should be added by the user:"
   ]
  },
  {
   "cell_type": "code",
   "execution_count": 6,
   "metadata": {
    "collapsed": true
   },
   "outputs": [],
   "source": [
    "X = sm.add_constant(diamondData.carats) # this append a column of ones"
   ]
  },
  {
   "cell_type": "code",
   "execution_count": 7,
   "metadata": {
    "collapsed": false
   },
   "outputs": [],
   "source": [
    "simpleModel = sm.OLS(diamondData.price, X).fit() # fit the model"
   ]
  },
  {
   "cell_type": "code",
   "execution_count": 8,
   "metadata": {
    "collapsed": false
   },
   "outputs": [
    {
     "data": {
      "text/plain": [
       "const     -259.625907\n",
       "carats    3721.024852\n",
       "dtype: float64"
      ]
     },
     "execution_count": 8,
     "metadata": {},
     "output_type": "execute_result"
    }
   ],
   "source": [
    "simpleModel.params  # here are the beta coefficients (intercept and slope of the linear regression line)"
   ]
  },
  {
   "cell_type": "markdown",
   "metadata": {},
   "source": [
    "The intercept (beta0) is -259.6 and the slope (beta1) is 3721  \n",
    "Therefore our simple (one variable only) model looks like:  \n",
    "\n",
    "Diamond Price = -259.6 + 3721 * Diamond Weight"
   ]
  },
  {
   "cell_type": "markdown",
   "metadata": {},
   "source": [
    "We can plot the obtained regression line together with the input data X.\n",
    "We can do it by drawing a line using the beta parameters just calculated or also plotting the fitted values:"
   ]
  },
  {
   "cell_type": "code",
   "execution_count": 9,
   "metadata": {
    "collapsed": true
   },
   "outputs": [],
   "source": [
    "%matplotlib inline\n",
    "import matplotlib.pyplot as plt"
   ]
  },
  {
   "cell_type": "code",
   "execution_count": 10,
   "metadata": {
    "collapsed": false
   },
   "outputs": [
    {
     "data": {
      "image/png": "[encoded data removed]",
      "text/plain": [
       "<matplotlib.figure.Figure at 0x11801b748>"
      ]
     },
     "metadata": {},
     "output_type": "display_data"
    }
   ],
   "source": [
    "fig = plt.figure()\n",
    "ax = fig.add_subplot(1,1,1)\n",
    "\n",
    "ax.scatter(diamondData.carats, diamondData.price)\n",
    "   # draw linear regression line\n",
    "x = [0.1,0.4]\n",
    "y = [-259.6 + 3721 * i for i in x] \n",
    "ax.plot(x, y)\n",
    "   # alternatively, plot the fitted values\n",
    "#y_hat = simpleModel.fittedvalues\n",
    "#ax.plot(diamondData.carats, y_hat)\n",
    "   # pretty-up the plot\n",
    "fig.suptitle(\"Relation between diamonds' price and weight\")\n",
    "ax.set_ylabel('Price [SIN $]')\n",
    "ax.set_xlabel('Weight [carat]')\n",
    "ax.grid(True)"
   ]
  },
  {
   "cell_type": "markdown",
   "metadata": {},
   "source": [
    "This answers our first question.  \n",
    "There is a relationship between price and weight of diamond and we can model it."
   ]
  },
  {
   "cell_type": "markdown",
   "metadata": {},
   "source": [
    "# Analyse the model"
   ]
  },
  {
   "cell_type": "markdown",
   "metadata": {},
   "source": [
    "## Which kind of relation is between weight and price?"
   ]
  },
  {
   "cell_type": "markdown",
   "metadata": {},
   "source": [
    "Next question would be to find out if the relation is linear and how it looks like."
   ]
  },
  {
   "cell_type": "markdown",
   "metadata": {},
   "source": [
    "### Coefficients interpretation"
   ]
  },
  {
   "cell_type": "markdown",
   "metadata": {},
   "source": [
    "Beta1 (the slope of the regression line) is the **expected change in response for a 1 unit change in the predictor.**  \n",
    "In our case, we expect 3721 Singapore dollars increase in price for every carat increase in mass of diamond.  \n",
    "This is within the restricted range considered; extrapolation of the regression line for bigger diamond stones would not be advisable as these stones are rarer and command a different price range.\n",
    "\n",
    "Beta0 (the intercept of the regression line) is the **expected price when the weight is zero.**\n",
    "This does not always make sense and in our case the negative intercept is even more puzzling because it suggests that a zero-carat diamond ring has a negative economic value!"
   ]
  },
  {
   "cell_type": "markdown",
   "metadata": {},
   "source": [
    "### Getting a more interpretable intercept"
   ]
  },
  {
   "cell_type": "markdown",
   "metadata": {},
   "source": [
    "The intercept -259.63 is the expected price of a 0 carat diamond.  \n",
    "Which does not make much sense (unless you consider it the cost of bothering the diamond expert when you ask the price of a non-existing diamond :) )  \n",
    "\n",
    "It can be ignored (the model applies only to a restricted range of the data, say starting from 0.1 Carats) or can be an indication that a different model could be more precise, for example a non-linear regression.  \n",
    "\n",
    "We can also use instead the expected price for a more suitable weight, for example the average diamond weight."
   ]
  },
  {
   "cell_type": "code",
   "execution_count": 11,
   "metadata": {
    "collapsed": false
   },
   "outputs": [
    {
     "data": {
      "text/plain": [
       "0.2041666666666667"
      ]
     },
     "execution_count": 11,
     "metadata": {},
     "output_type": "execute_result"
    }
   ],
   "source": [
    "diamondData.carats.mean() # this is the weight mean of our dataset"
   ]
  },
  {
   "cell_type": "markdown",
   "metadata": {},
   "source": [
    "Instead of X as input for the model, we take X centered around the mean, i.e. we shift X of a value equal to the sample mean:"
   ]
  },
  {
   "cell_type": "code",
   "execution_count": 12,
   "metadata": {
    "collapsed": true
   },
   "outputs": [],
   "source": [
    "XmeanCentered = diamondData.carats - diamondData.carats.mean()"
   ]
  },
  {
   "cell_type": "code",
   "execution_count": 13,
   "metadata": {
    "collapsed": false
   },
   "outputs": [
    {
     "data": {
      "text/plain": [
       "const      500.083333\n",
       "carats    3721.024852\n",
       "dtype: float64"
      ]
     },
     "execution_count": 13,
     "metadata": {},
     "output_type": "execute_result"
    }
   ],
   "source": [
    "XmeanCentered = sm.add_constant(XmeanCentered) # this append a column of ones\n",
    "meanCenteredModel = sm.OLS(diamondData.price, XmeanCentered).fit() # fit a new model\n",
    "meanCenteredModel.params"
   ]
  },
  {
   "cell_type": "markdown",
   "metadata": {},
   "source": [
    "As you can see, **the slope is the same as the previous model, only the intercept shifted**.  \n",
    "This is always valid when you shift your X values."
   ]
  },
  {
   "cell_type": "markdown",
   "metadata": {},
   "source": [
    "Thus $500.1 is the **expected price for the average sized diamond** of the initial dataset (=0.2042 carats).  \n",
    "This is an intercept making much more sense."
   ]
  },
  {
   "cell_type": "markdown",
   "metadata": {},
   "source": [
    "You can shift the X input by a certain value but you can also re-scale them.  \n",
    "This can be useful when one unit is quite large and we would prefer a finer unit.  \n",
    "For example, in our case, one carat is worth of almost 4K SIN$ and could make sense to talk about tenth of carats (= 1/10). "
   ]
  },
  {
   "cell_type": "code",
   "execution_count": 14,
   "metadata": {
    "collapsed": true
   },
   "outputs": [],
   "source": [
    "Xtenth = diamondData.carats *10 # rescale the X"
   ]
  },
  {
   "cell_type": "code",
   "execution_count": 15,
   "metadata": {
    "collapsed": false
   },
   "outputs": [
    {
     "data": {
      "text/plain": [
       "const    -259.625907\n",
       "carats    372.102485\n",
       "dtype: float64"
      ]
     },
     "execution_count": 15,
     "metadata": {},
     "output_type": "execute_result"
    }
   ],
   "source": [
    "Xtenth = sm.add_constant(Xtenth)\n",
    "tenthModel = sm.OLS(diamondData.price, Xtenth).fit() # again fit the model\n",
    "tenthModel.params"
   ]
  },
  {
   "cell_type": "markdown",
   "metadata": {},
   "source": [
    "**The intercept is the same as in the original model, only the slope coefficient is divided by 10**.  \n",
    "This is always valid when you re-scale the X values.  \n",
    "\n",
    "We expect a **372.102 (SIN) dollar change in price for every 1/10th of a carat increase** in mass of diamond.  "
   ]
  },
  {
   "cell_type": "markdown",
   "metadata": {},
   "source": [
    "# Predicting the price of a diamond"
   ]
  },
  {
   "cell_type": "markdown",
   "metadata": {},
   "source": [
    "Once we have a model of the relation, we can use it for predictions.  \n",
    "The statsmodel package has a method *predict()* associated to each model, that takes a new set of input and will output the predicted values, according to the model."
   ]
  },
  {
   "cell_type": "markdown",
   "metadata": {},
   "source": [
    "Let's say that I want to buy a 0.2 carats diamond. How much should I expect it to cost?"
   ]
  },
  {
   "cell_type": "markdown",
   "metadata": {},
   "source": [
    "I can use the beta parameters estimated by the model and just putting them into the linear regression formula:"
   ]
  },
  {
   "cell_type": "code",
   "execution_count": 16,
   "metadata": {
    "collapsed": false
   },
   "outputs": [
    {
     "data": {
      "text/plain": [
       "484.57906311853975"
      ]
     },
     "execution_count": 16,
     "metadata": {},
     "output_type": "execute_result"
    }
   ],
   "source": [
    "simpleModel.params[0] + 0.2*simpleModel.params[1]"
   ]
  },
  {
   "cell_type": "markdown",
   "metadata": {},
   "source": [
    "I expect to pay around 485 SIN $.  \n",
    "\n",
    "Or I can use the *predict()* function available in the *statsmodel* package:"
   ]
  },
  {
   "cell_type": "code",
   "execution_count": 17,
   "metadata": {
    "collapsed": false
   },
   "outputs": [],
   "source": [
    "newDiamond = [1, 0.2] # remember to add always the intercept!"
   ]
  },
  {
   "cell_type": "code",
   "execution_count": 18,
   "metadata": {
    "collapsed": false
   },
   "outputs": [
    {
     "data": {
      "text/plain": [
       "array([ 484.57906312])"
      ]
     },
     "execution_count": 18,
     "metadata": {},
     "output_type": "execute_result"
    }
   ],
   "source": [
    "simpleModel.predict(newDiamond)"
   ]
  },
  {
   "cell_type": "markdown",
   "metadata": {},
   "source": [
    "It's also possible to pass a list of values to predict:"
   ]
  },
  {
   "cell_type": "code",
   "execution_count": 19,
   "metadata": {
    "collapsed": true
   },
   "outputs": [],
   "source": [
    "newDiamonds = sm.add_constant([0.16, 0.27, 0.34]) # add the intecept"
   ]
  },
  {
   "cell_type": "code",
   "execution_count": 20,
   "metadata": {
    "collapsed": false
   },
   "outputs": [
    {
     "data": {
      "text/plain": [
       "array([  335.73806906,   745.05080273,  1005.52254234])"
      ]
     },
     "execution_count": 20,
     "metadata": {},
     "output_type": "execute_result"
    }
   ],
   "source": [
    "simpleModel.predict(newDiamonds)"
   ]
  },
  {
   "cell_type": "markdown",
   "metadata": {},
   "source": [
    "Result: for 0.16, 0.27, and 0.34 carats, we predict the prices to be 335.74, 745.05, 1005.52 (SIN) dollars"
   ]
  },
  {
   "cell_type": "markdown",
   "metadata": {},
   "source": [
    "# Model fit"
   ]
  },
  {
   "cell_type": "markdown",
   "metadata": {},
   "source": [
    "## How strong is the relationship?"
   ]
  },
  {
   "cell_type": "markdown",
   "metadata": {},
   "source": [
    "We know that there is a relationship between diamonds carats and prices, we would like to know the strength of this relationship. In other words, given a certain diamond weight, can we predict the price with a high level of accuracy? This would be a strong relationship. Or is a prediction of prices based on weight  only slightly better than a random guess? This would be a weak relationship."
   ]
  },
  {
   "cell_type": "markdown",
   "metadata": {},
   "source": [
    "## Residuals"
   ]
  },
  {
   "cell_type": "markdown",
   "metadata": {},
   "source": [
    "As we have seen previously, the residuals are the difference between the observed (y) and the predicted outcome (y_hat):"
   ]
  },
  {
   "cell_type": "code",
   "execution_count": 21,
   "metadata": {
    "collapsed": false
   },
   "outputs": [],
   "source": [
    "y = diamondData.price"
   ]
  },
  {
   "cell_type": "code",
   "execution_count": 22,
   "metadata": {
    "collapsed": false
   },
   "outputs": [],
   "source": [
    "y_hat = simpleModel.fittedvalues"
   ]
  },
  {
   "cell_type": "code",
   "execution_count": 23,
   "metadata": {
    "collapsed": false
   },
   "outputs": [
    {
     "data": {
      "text/plain": [
       "85.158566087530232"
      ]
     },
     "execution_count": 23,
     "metadata": {},
     "output_type": "execute_result"
    }
   ],
   "source": [
    "max (abs (y - y_hat))"
   ]
  },
  {
   "cell_type": "markdown",
   "metadata": {},
   "source": [
    "Conveniently, residuals are also stored in the results attribute *resid*:"
   ]
  },
  {
   "cell_type": "code",
   "execution_count": 24,
   "metadata": {
    "collapsed": false
   },
   "outputs": [],
   "source": [
    "residuals = simpleModel.resid"
   ]
  },
  {
   "cell_type": "code",
   "execution_count": 25,
   "metadata": {
    "collapsed": false
   },
   "outputs": [
    {
     "data": {
      "text/plain": [
       "85.158566087530232"
      ]
     },
     "execution_count": 25,
     "metadata": {},
     "output_type": "execute_result"
    }
   ],
   "source": [
    "max(abs(residuals))"
   ]
  },
  {
   "cell_type": "markdown",
   "metadata": {},
   "source": [
    "85 SIN$ (per defect or excess) is the biggest difference done by the model.\n",
    "\n",
    "Don't confuse errors and residuals.  \n",
    "The error is the deviation of the observed value from the (unobservable) true value of a quantity of interest (for example, a population mean), and the residual is the difference between the observed value and the estimated value of the quantity of interest (for example, a sample mean).  \n",
    " \n",
    "We can learn many things from the residuals.\n",
    "One is that their distribution and properties can give us an indication about the model fit."
   ]
  },
  {
   "cell_type": "markdown",
   "metadata": {},
   "source": [
    "### Residuals should not show any pattern"
   ]
  },
  {
   "cell_type": "markdown",
   "metadata": {},
   "source": [
    "The residuals and their plot can highlight a poor model fit.  \n",
    "Here we plot the residuals versus the fitted values:"
   ]
  },
  {
   "cell_type": "code",
   "execution_count": 26,
   "metadata": {
    "collapsed": false
   },
   "outputs": [
    {
     "data": {
      "image/png": "[encoded data removed]",
      "text/plain": [
       "<matplotlib.figure.Figure at 0x1181e1be0>"
      ]
     },
     "metadata": {},
     "output_type": "display_data"
    }
   ],
   "source": [
    "fig = plt.figure()\n",
    "ax = fig.add_subplot(1,1,1)\n",
    "ax.plot(simpleModel.fittedvalues, residuals, 'o') # as round marks\n",
    "\n",
    "   # pretty-up the plot\n",
    "ax.plot ((0, 1200), (0,0)) # draw also a line at y=0\n",
    "fig.suptitle(\"Residuals versus fitted prices\")\n",
    "ax.set_ylabel('Residuals [SIN $]')\n",
    "ax.set_xlabel('Price [SIN $]')\n",
    "ax.grid(True)"
   ]
  },
  {
   "cell_type": "markdown",
   "metadata": {},
   "source": [
    "The residuals should be **distributed uniformly without showing any pattern** and having a constant variance."
   ]
  },
  {
   "cell_type": "markdown",
   "metadata": {},
   "source": [
    "If we see from the residuals vs. fitted plot that **the variance of the residuals increases** as the fitted values increase (takes a form of a horizontal cone) this is the sign of **heteroscedasticity**.  \n",
    "\n",
    "Homoscedasticity describes a situation in which the error term (that is, the “noise” or random disturbance in the relationship between the independent variables and the dependent variable) is the same across all values of the independent variables.  \n",
    "\n",
    "Heteroscedasticity (the violation of homoscedasticity) is present when **the size of the error term differs across values** of an independent variable.  \n",
    "Examining the scatterplot of the residuals against the predicted values of the dependent variable would show the classic cone-shaped pattern of heteroscedasticity."
   ]
  },
  {
   "cell_type": "markdown",
   "metadata": {},
   "source": [
    "![heteroscedasticity](lme_flu_residuals_fitted5.png)"
   ]
  },
  {
   "cell_type": "markdown",
   "metadata": {},
   "source": [
    "Other patterns could be:  \n",
    "- curvilinear  (indicate is non-linear / missing higher-order term)\n",
    "- a single point is far away from zero (probably an outlier)\n",
    "- a single point is far away from the others in the x-direction (probably an influential point)"
   ]
  },
  {
   "cell_type": "markdown",
   "metadata": {},
   "source": [
    "### Residuals should be normally distributed"
   ]
  },
  {
   "cell_type": "markdown",
   "metadata": {},
   "source": [
    "The **sum of the residuals is expected to be zero** (when there is an intercept).  \n",
    "This [follows directly from the normal equation](http://stats.stackexchange.com/questions/189584/why-do-residuals-in-linear-regression-always-sum-to-zero-when-an-intercept-is-in), i.e. the equation that the OLS estimator solves. "
   ]
  },
  {
   "cell_type": "code",
   "execution_count": 27,
   "metadata": {
    "collapsed": false
   },
   "outputs": [
    {
     "data": {
      "text/plain": [
       "-7.3896444519050419e-13"
      ]
     },
     "execution_count": 27,
     "metadata": {},
     "output_type": "execute_result"
    }
   ],
   "source": [
    "sum(residuals)"
   ]
  },
  {
   "cell_type": "markdown",
   "metadata": {},
   "source": [
    "The **mean of the residuals is expected to be zero**.  \n",
    "This [comes directly from the fact that OLS minimises the sum of square residuals](http://math.stackexchange.com/questions/494181/why-the-sum-of-residuals-equals-0-when-we-do-a-sample-regression-by-ols)"
   ]
  },
  {
   "cell_type": "code",
   "execution_count": 28,
   "metadata": {
    "collapsed": true
   },
   "outputs": [],
   "source": [
    "import numpy as np"
   ]
  },
  {
   "cell_type": "code",
   "execution_count": 29,
   "metadata": {
    "collapsed": false,
    "scrolled": true
   },
   "outputs": [
    {
     "data": {
      "text/plain": [
       "-1.5395092608135503e-14"
      ]
     },
     "execution_count": 29,
     "metadata": {},
     "output_type": "execute_result"
    }
   ],
   "source": [
    "np.mean(residuals)"
   ]
  },
  {
   "cell_type": "markdown",
   "metadata": {},
   "source": [
    "This is one of the assumptions for regression analysis: residuals should have a normal (or Gaussian) distribution."
   ]
  },
  {
   "cell_type": "code",
   "execution_count": 30,
   "metadata": {
    "collapsed": false
   },
   "outputs": [
    {
     "data": {
      "text/plain": [
       "(array([  1.,   1.,   3.,   9.,   8.,  12.,   5.,   6.,   2.,   1.]),\n",
       " array([-85.15856609, -68.70574005, -52.25291401, -35.80008797,\n",
       "        -19.34726193,  -2.89443589,  13.55839015,  30.01121619,\n",
       "         46.46404223,  62.91686826,  79.3696943 ]),\n",
       " <a list of 10 Patch objects>)"
      ]
     },
     "execution_count": 30,
     "metadata": {},
     "output_type": "execute_result"
    },
    {
     "data": {
      "image/png": "[encoded data removed]",
      "text/plain": [
       "<matplotlib.figure.Figure at 0x11801b400>"
      ]
     },
     "metadata": {},
     "output_type": "display_data"
    }
   ],
   "source": [
    "plt.hist(residuals)"
   ]
  },
  {
   "cell_type": "markdown",
   "metadata": {},
   "source": [
    "It looks normal but we can verify better with a Q-Q plot."
   ]
  },
  {
   "cell_type": "markdown",
   "metadata": {},
   "source": [
    "### Q-Q plot to verify the residuals distribution"
   ]
  },
  {
   "cell_type": "markdown",
   "metadata": {},
   "source": [
    "Q-Q plots (stands for a \"quantile-quantile plot\") can be used to check whether the data is distributed normally or not.  \n",
    "\n",
    "It is a plot where the axes are purposely transformed in order to make a normal (or Gaussian) distribution appear in a straight line. In other words, a **perfectly normal distribution would exactly follow a line with slope = 1 and intercept = 0.**\n",
    "\n",
    "Therefore, if the plot does not appear to be - roughly - a straight line, then the underlying distribution is not normal. If it bends up, then there are more \"high flyer\" values than expected, for instance.  \n",
    "The theoretical quantiles are placed along the x-axis. That is, the x-axis is not your data, it is simply an expectation of where your data should have been, if it were normal.\n",
    "\n",
    "The actual data is plotted along the y-axis.\n",
    "\n",
    "The values are the standard deviations from the mean. So, 0 is the mean of the data, 1 is 1 standard deviation above, etc. This means, for instance, that 68.27% of all your data should be between -1 & 1, if you have a normal distribution."
   ]
  },
  {
   "cell_type": "markdown",
   "metadata": {},
   "source": [
    "*statsmodels* offers a handy *qqplot()* function:"
   ]
  },
  {
   "cell_type": "code",
   "execution_count": 31,
   "metadata": {
    "collapsed": false
   },
   "outputs": [
    {
     "data": {
      "image/png": "[encoded data removed]",
      "text/plain": [
       "<matplotlib.figure.Figure at 0x1185e4358>"
      ]
     },
     "execution_count": 31,
     "metadata": {},
     "output_type": "execute_result"
    },
    {
     "data": {
      "image/png": "[encoded data removed]",
      "text/plain": [
       "<matplotlib.figure.Figure at 0x1185e4358>"
      ]
     },
     "metadata": {},
     "output_type": "display_data"
    }
   ],
   "source": [
    "sm.qqplot(residuals, fit=True, line = '45')"
   ]
  },
  {
   "cell_type": "markdown",
   "metadata": {},
   "source": [
    "## Estimating residual variation"
   ]
  },
  {
   "cell_type": "markdown",
   "metadata": {},
   "source": [
    "The residual variation measures how well the regression line fits the data points.  \n",
    "\n",
    "It is the variation in the dependent variable (Price) that is not explained by the regression model and is represented by the residuals. We want the residual variation to be as small as possible.  \n",
    "\n",
    "Each residual is distributed normally with mean 0 and variance = sigma_squared.    \n",
    "\n",
    "We have [previously seen](https://github.com/Mashimo/datascience/blob/master/01-Regression/LinearRegression.ipynb) that the ML Estimate of variance, sigma_squared, is sum(residuals squared) divided by n   and we called it the **Mean Squared Error (MSE)**.  \n",
    "Most people use (n-2) instead of n so that the estimator is unbiased (the -2 is accounting for the degrees of freedom for intercept and slope).      \n",
    "\n",
    "The square root of the estimate, sigma, is called the **Root Mean Squared Error (RMSE)**.\n",
    "We want both MSE and RMSE to be as small as possible."
   ]
  },
  {
   "cell_type": "markdown",
   "metadata": {},
   "source": [
    "In our diamonds example the estimated residual variation (unbiased RMSE) is :"
   ]
  },
  {
   "cell_type": "code",
   "execution_count": 32,
   "metadata": {
    "collapsed": false
   },
   "outputs": [
    {
     "data": {
      "text/plain": [
       "31.840522265031755"
      ]
     },
     "execution_count": 32,
     "metadata": {},
     "output_type": "execute_result"
    }
   ],
   "source": [
    "n = len(y)\n",
    "MSE = sum(residuals**2) / (n-2)\n",
    "RMSE = np.sqrt(MSE)\n",
    "RMSE"
   ]
  },
  {
   "cell_type": "markdown",
   "metadata": {},
   "source": [
    "RMSE can be used to calculate the standardized residuals too.  \n",
    "They equal the value of a residual divided by an estimate of its standard deviation (so, RMSE).  \n",
    "Large standardized residuals are an indication of an outlier."
   ]
  },
  {
   "cell_type": "code",
   "execution_count": 33,
   "metadata": {
    "collapsed": false
   },
   "outputs": [
    {
     "data": {
      "text/plain": [
       "2.4927258932276684"
      ]
     },
     "execution_count": 33,
     "metadata": {},
     "output_type": "execute_result"
    }
   ],
   "source": [
    "max(simpleModel.resid / RMSE)"
   ]
  },
  {
   "cell_type": "markdown",
   "metadata": {},
   "source": [
    "### Summarizing the variation: R-squared"
   ]
  },
  {
   "cell_type": "markdown",
   "metadata": {},
   "source": [
    "The total variation is the residual variation (variation after removing predictors) plus the systematic variation (variation explained by regression model).  "
   ]
  },
  {
   "cell_type": "markdown",
   "metadata": {},
   "source": [
    "**R-squared** is the percentage of variability explained by the regression model:  "
   ]
  },
  {
   "cell_type": "markdown",
   "metadata": {},
   "source": [
    "R-squared = explained / total variation = 1 - residual / total variation"
   ]
  },
  {
   "cell_type": "markdown",
   "metadata": {},
   "source": [
    "R-squared is always between 0 and 1 (0% and 100%):\n",
    "- 0% indicates that the model explains none of the variability of the response data around its mean.\n",
    "- 100% indicates that the model explains all the variability of the response data around its mean.  \n",
    "\n",
    "In general, the higher the R-squared, the better the model fits your data. "
   ]
  },
  {
   "cell_type": "code",
   "execution_count": 34,
   "metadata": {
    "collapsed": false
   },
   "outputs": [
    {
     "data": {
      "text/plain": [
       "0.97826077798603295"
      ]
     },
     "execution_count": 34,
     "metadata": {},
     "output_type": "execute_result"
    }
   ],
   "source": [
    "simpleModel.rsquared"
   ]
  },
  {
   "cell_type": "markdown",
   "metadata": {},
   "source": [
    "We are quite close to a perfect model."
   ]
  },
  {
   "cell_type": "markdown",
   "metadata": {},
   "source": [
    "You can use a fitted line plot to graphically illustrate different R-squared values.  \n",
    "The more variation that is explained by the model, the closer the data points fall to the line. Theoretically, if a model could explain 100% of the variation, the fitted values would always equal the observed values and all of the data points would fall on the  line."
   ]
  },
  {
   "cell_type": "code",
   "execution_count": 35,
   "metadata": {
    "collapsed": false
   },
   "outputs": [
    {
     "data": {
      "image/png": "[encoded data removed]",
      "text/plain": [
       "<matplotlib.figure.Figure at 0x11860eda0>"
      ]
     },
     "metadata": {},
     "output_type": "display_data"
    }
   ],
   "source": [
    "fig = plt.figure()\n",
    "ax = fig.add_subplot(1,1,1)\n",
    "ax.plot(simpleModel.fittedvalues, diamondData.price, 'o') # as round marks\n",
    "   # identity line\n",
    "plt.plot(simpleModel.fittedvalues, simpleModel.fittedvalues, '--') \n",
    "   # pretty-up the plot\n",
    "fig.suptitle(\"Relation between estimated and actual diamonds' prices\")\n",
    "ax.set_ylabel('Estimated Price [SIN $]')\n",
    "ax.set_xlabel('Actual Price [SIN $]')\n",
    "ax.grid(True)"
   ]
  },
  {
   "cell_type": "markdown",
   "metadata": {},
   "source": [
    " R-squared can be a misleading summary and needs to be carefully taken (deleting data can inflate R-squared for example). \n",
    "\n",
    "In conclusion (residuals distribution, variation) the model is pretty good and the relation is very strong."
   ]
  },
  {
   "cell_type": "markdown",
   "metadata": {},
   "source": [
    "Because of this, sometimes is preferred to use the **adjusted Rsquared**, which is Rsquared adjusted for the number of observations.  \n",
    "There are several formula that can be used, normally it is the Wherry's formula:"
   ]
  },
  {
   "cell_type": "code",
   "execution_count": 36,
   "metadata": {
    "collapsed": false
   },
   "outputs": [
    {
     "data": {
      "text/plain": [
       "0.97778818620312058"
      ]
     },
     "execution_count": 36,
     "metadata": {},
     "output_type": "execute_result"
    }
   ],
   "source": [
    "1 - (1-simpleModel.rsquared)*((n-1)/simpleModel.df_resid)"
   ]
  },
  {
   "cell_type": "markdown",
   "metadata": {},
   "source": [
    "Of course, it is also available from the model results:"
   ]
  },
  {
   "cell_type": "code",
   "execution_count": 37,
   "metadata": {
    "collapsed": false
   },
   "outputs": [
    {
     "data": {
      "text/plain": [
       "0.97778818620312058"
      ]
     },
     "execution_count": 37,
     "metadata": {},
     "output_type": "execute_result"
    }
   ],
   "source": [
    "simpleModel.rsquared_adj"
   ]
  },
  {
   "cell_type": "markdown",
   "metadata": {},
   "source": [
    "# Confidence"
   ]
  },
  {
   "cell_type": "markdown",
   "metadata": {},
   "source": [
    "## How accurately can we predict the diamond prices?"
   ]
  },
  {
   "cell_type": "markdown",
   "metadata": {},
   "source": [
    "For any given weight in carats, what is our prediction for the price, and what is the accuracy of this prediction?"
   ]
  },
  {
   "cell_type": "markdown",
   "metadata": {},
   "source": [
    "In statistics, a sequence of random variables is independent and identically distributed (IID) if each random variable has the same probability distribution as the others and all are mutually independent."
   ]
  },
  {
   "cell_type": "markdown",
   "metadata": {},
   "source": [
    "### Inference for regression"
   ]
  },
  {
   "cell_type": "markdown",
   "metadata": {},
   "source": [
    "In the case of regression with IID sampling assumptions and normal distributed residuals, the statistics for our estimated beta coefficients:  \n",
    "- will follow a finite sample T-distributions and be normally distributed \n",
    "- can be used to test null hypotesis\n",
    "- can be used to create a confidence interval"
   ]
  },
  {
   "cell_type": "markdown",
   "metadata": {},
   "source": [
    "In probability and statistics, the [t-distribution](https://en.wikipedia.org/wiki/Student's_t-distribution) is any member of a family of continuous probability distributions that arises when estimating the mean of a normally distributed population in situations where the sample size is small and population standard deviation is unknown.  \n",
    "\n",
    "Whereas a normal distribution describes a full population, t-distributions describe samples drawn from a full population.  \n",
    "\n",
    "The t-distribution becomes closer to the normal (Gaussian) distribution as its degrees of freedom (df) increases."
   ]
  },
  {
   "cell_type": "markdown",
   "metadata": {},
   "source": [
    "![t-distribution](tdistr.png)"
   ]
  },
  {
   "cell_type": "markdown",
   "metadata": {},
   "source": [
    "The t-distribution arises in a variety of statistical estimation problems where the goal is to estimate an unknown parameter, such as a mean value, in a setting where the data are observed with additive errors.  \n",
    "\n",
    "If the population standard deviation of these errors is unknown and has to be estimated from the data, the t-distribution is often used to account for the extra uncertainty that results from this estimation.  \n",
    "\n",
    "Confidence intervals and hypothesis tests are two statistical procedures in which the quantiles of the sampling distribution of a particular statistic (e.g. the standard score) are required. "
   ]
  },
  {
   "cell_type": "markdown",
   "metadata": {},
   "source": [
    "Confidence levels are expressed as a percentage (for example, a 95% confidence level). It means that should you take a sample over and over again, 95 percent of the time your results will match the results you get from the population.  \n",
    "\n",
    "When the population standard deviation sigma is not known, an interval estimate for the population with confidence level (1-alfa) is given by:  \n",
    "Xmean +- t * (estimated standard error of the mean)  \n",
    "\n",
    "where t is a critical value determined from the t-distribution in such a way that there is an are (1-alfa) between t and -t."
   ]
  },
  {
   "cell_type": "markdown",
   "metadata": {},
   "source": [
    "![interval](tdecrule.gif)"
   ]
  },
  {
   "cell_type": "markdown",
   "metadata": {},
   "source": [
    "First, we need to calculate the variance."
   ]
  },
  {
   "cell_type": "markdown",
   "metadata": {},
   "source": [
    "### Estimating the coefficients and the variance "
   ]
  },
  {
   "cell_type": "markdown",
   "metadata": {},
   "source": [
    "Recall that our linear regression model is:  \n",
    "Y = Beta0 + Beta1 * X + errors  \n",
    "\n",
    "We can define the beta parameters as:  \n",
    "beta0 = mean(Y) - beta1 \\* mean(X)  \n",
    "beta1 = Cor(Y,X) \\* Sd(Y)/Sd(X)  \n",
    "\n",
    "For our diamonds example:"
   ]
  },
  {
   "cell_type": "code",
   "execution_count": 38,
   "metadata": {
    "collapsed": true
   },
   "outputs": [],
   "source": [
    "  # prepare the data\n",
    "y = diamondData.price\n",
    "x = diamondData.carats\n",
    "n = len(y)"
   ]
  },
  {
   "cell_type": "code",
   "execution_count": 39,
   "metadata": {
    "collapsed": false
   },
   "outputs": [
    {
     "data": {
      "text/plain": [
       "3721.0248515504722"
      ]
     },
     "execution_count": 39,
     "metadata": {},
     "output_type": "execute_result"
    }
   ],
   "source": [
    "  # calculate beta1\n",
    "beta1 = (np.corrcoef (y,x) * np.std(y) / np.std(x))[0][1]\n",
    "beta1"
   ]
  },
  {
   "cell_type": "code",
   "execution_count": 40,
   "metadata": {
    "collapsed": false
   },
   "outputs": [
    {
     "data": {
      "text/plain": [
       "-259.62590719155486"
      ]
     },
     "execution_count": 40,
     "metadata": {},
     "output_type": "execute_result"
    }
   ],
   "source": [
    "  # calculate beta0\n",
    "beta0 = np.mean(y) - beta1 * np.mean(x)\n",
    "beta0"
   ]
  },
  {
   "cell_type": "markdown",
   "metadata": {},
   "source": [
    "Sigma is unknown but its estimate is the squared root of the sum of the errors squared, divided by n-2 (the degrees of freedom)"
   ]
  },
  {
   "cell_type": "code",
   "execution_count": 41,
   "metadata": {
    "collapsed": false
   },
   "outputs": [
    {
     "data": {
      "text/plain": [
       "31.840522265031737"
      ]
     },
     "execution_count": 41,
     "metadata": {},
     "output_type": "execute_result"
    }
   ],
   "source": [
    "e = y - beta0 - beta1 * x # the residuals\n",
    "  # unbiased estimate for variance\n",
    "sigma = np.sqrt(sum(e**2) / (n-2))\n",
    "sigma"
   ]
  },
  {
   "cell_type": "markdown",
   "metadata": {
    "collapsed": true
   },
   "source": [
    "## Confidence intervals"
   ]
  },
  {
   "cell_type": "markdown",
   "metadata": {},
   "source": [
    "A 95% confidence interval is defined as a range of values such that with 95% probability, the range will contain the true unknown value of the parameter. "
   ]
  },
  {
   "cell_type": "markdown",
   "metadata": {},
   "source": [
    "### Recall of quantiles and percentiles of a distribution"
   ]
  },
  {
   "cell_type": "markdown",
   "metadata": {},
   "source": [
    "If you were the 95th percentile on an exam, it means that 95% of people scored worse than you and 5% scored better.  \n",
    "These are sample quantiles."
   ]
  },
  {
   "cell_type": "markdown",
   "metadata": {},
   "source": [
    "Now for a population: the *i-th* quantile of a distribution with distribution function *F* is simply the point *x_i* so that :  \n",
    "F(x_i) = i  \n",
    "\n",
    "A percentile is simply a quantile with *i* expressed as a percent.  \n",
    "The 95th percentile of a distribution is the point where the probability that a random variable drawn from the population is less than 95%."
   ]
  },
  {
   "cell_type": "markdown",
   "metadata": {},
   "source": [
    "Approximately 68%, 95% and 99% of the **normal** density lies respectively within 1,2 and 3 standard deviations from the mean."
   ]
  },
  {
   "cell_type": "markdown",
   "metadata": {},
   "source": [
    "### Estimating the Standard Errors"
   ]
  },
  {
   "cell_type": "markdown",
   "metadata": {},
   "source": [
    "Now we need to calculate the standard errors."
   ]
  },
  {
   "cell_type": "code",
   "execution_count": 42,
   "metadata": {
    "collapsed": false
   },
   "outputs": [
    {
     "data": {
      "text/plain": [
       "17.318856186448148"
      ]
     },
     "execution_count": 42,
     "metadata": {},
     "output_type": "execute_result"
    }
   ],
   "source": [
    "ssx = sum((x - np.mean(x))**2)\n",
    "\n",
    "  # calculate standard error for beta0\n",
    "seBeta0 = (1 / n + np.mean(x) ** 2 / ssx) ** 0.5 * sigma\n",
    "seBeta0"
   ]
  },
  {
   "cell_type": "code",
   "execution_count": 43,
   "metadata": {
    "collapsed": false
   },
   "outputs": [
    {
     "data": {
      "text/plain": [
       "81.785880366042491"
      ]
     },
     "execution_count": 43,
     "metadata": {},
     "output_type": "execute_result"
    }
   ],
   "source": [
    "  # calculate standard error for beta1\n",
    "seBeta1 = sigma / np.sqrt(ssx)\n",
    "seBeta1"
   ]
  },
  {
   "cell_type": "markdown",
   "metadata": {},
   "source": [
    "The standard error of the parameter measures the precision of the estimate of the parameter.  \n",
    "The smaller the standard error, the more precise the estimate."
   ]
  },
  {
   "cell_type": "markdown",
   "metadata": {},
   "source": [
    "### Hypothesis testing"
   ]
  },
  {
   "cell_type": "markdown",
   "metadata": {},
   "source": [
    "Hypothesis testing is concerned with making decisions using data.  \n",
    "A null hypothesis is specified that represents the status quo, usually labeled H0.  \n",
    "The null hypothesis is assumed true and statistical evidence is required to reject it in favour of an alternative hypothesis.  "
   ]
  },
  {
   "cell_type": "markdown",
   "metadata": {},
   "source": [
    "![hypotesis](one-sample-t-test.jpg)"
   ]
  },
  {
   "cell_type": "markdown",
   "metadata": {},
   "source": [
    "Consider testing H0: mu = mu0  \n",
    "If we take the set of all possible values for which you fail to reject H0, this set is an alfa% confidence interval for mu, alfa depending on the set."
   ]
  },
  {
   "cell_type": "markdown",
   "metadata": {},
   "source": [
    "### Getting the T-values"
   ]
  },
  {
   "cell_type": "markdown",
   "metadata": {},
   "source": [
    "Testing for null hypotesis H0: estimated beta0 and beta1 are equal to real coefficients"
   ]
  },
  {
   "cell_type": "markdown",
   "metadata": {},
   "source": [
    "Dividing the parameter by its standard error calculates a t-value: "
   ]
  },
  {
   "cell_type": "code",
   "execution_count": 44,
   "metadata": {
    "collapsed": false
   },
   "outputs": [
    {
     "data": {
      "text/plain": [
       "-14.990938454394572"
      ]
     },
     "execution_count": 44,
     "metadata": {},
     "output_type": "execute_result"
    }
   ],
   "source": [
    "tBeta0 = beta0 / seBeta0\n",
    "tBeta0"
   ]
  },
  {
   "cell_type": "code",
   "execution_count": 45,
   "metadata": {
    "collapsed": false
   },
   "outputs": [
    {
     "data": {
      "text/plain": [
       "45.497154703190581"
      ]
     },
     "execution_count": 45,
     "metadata": {},
     "output_type": "execute_result"
    }
   ],
   "source": [
    "tBeta1 = beta1 / seBeta1\n",
    "tBeta1"
   ]
  },
  {
   "cell_type": "markdown",
   "metadata": {},
   "source": [
    "## P-values"
   ]
  },
  {
   "cell_type": "markdown",
   "metadata": {},
   "source": [
    "P-values are the most common measure of \"statistical significance\".  \n",
    "\n",
    "The P-value is the probability under the null hypothesis of obtaining evidence as extreme or more extreme than would be observed by chance alone.  \n",
    "If the p-value is small, then either H0 is true and we have observed an extreme rare event or H0 is false.  \n",
    "\n",
    "Let's say a P-value is 0.1: then the probability of seeing evidence as extreme or more extreme than what actually has been obtained under H0 is 0.1 (10%).  \n",
    "\n",
    "By reporting a P-value, any observer can perform the own hypothesis test at whatever *alfa* level they choose. If the P-value is less than *alfa* then you reject the null hypothesis."
   ]
  },
  {
   "cell_type": "markdown",
   "metadata": {},
   "source": [
    "![p-value](pvalue.png)"
   ]
  },
  {
   "cell_type": "markdown",
   "metadata": {},
   "source": [
    "### Estimating the P-values for hypotesis contrary beta0 is not equal to zero"
   ]
  },
  {
   "cell_type": "markdown",
   "metadata": {},
   "source": [
    "We can use the T-distribution module from [*SciPy.stats*](https://docs.scipy.org/doc/scipy/reference/generated/scipy.stats.t.html) to calculate the p-values"
   ]
  },
  {
   "cell_type": "code",
   "execution_count": 46,
   "metadata": {
    "collapsed": true
   },
   "outputs": [],
   "source": [
    "from scipy.stats import t"
   ]
  },
  {
   "cell_type": "markdown",
   "metadata": {},
   "source": [
    "The survival function of a random variable is the probability that the random variable is bigger than a value x.  \n",
    "The *SciPy.stats* function *sf()* returns this probability: "
   ]
  },
  {
   "cell_type": "code",
   "execution_count": 47,
   "metadata": {
    "collapsed": false
   },
   "outputs": [],
   "source": [
    "degreesOfFreedom = simpleModel.df_resid # The residual degree of freedom\n",
    "pBeta0 = t.sf(abs(tBeta0), df=degreesOfFreedom)*2 # two-sided"
   ]
  },
  {
   "cell_type": "code",
   "execution_count": 48,
   "metadata": {
    "collapsed": false
   },
   "outputs": [],
   "source": [
    "pBeta1 = t.sf(abs(tBeta1), df=degreesOfFreedom)*2"
   ]
  },
  {
   "cell_type": "markdown",
   "metadata": {},
   "source": [
    "Let's summarise the values calculated until now:"
   ]
  },
  {
   "cell_type": "code",
   "execution_count": 49,
   "metadata": {
    "collapsed": false
   },
   "outputs": [
    {
     "name": "stdout",
     "output_type": "stream",
     "text": [
      "##            Estimate     Std. Error    t-value        p-value\n",
      "Intercept:  -259.625907192 17.3188561864 -14.9909384544 2.52327062853e-19\n",
      "Carats:      3721.02485155 81.785880366 45.4971547032 6.75125983495e-40\n"
     ]
    }
   ],
   "source": [
    "print (\"##            Estimate     Std. Error    t-value        p-value\")\n",
    "print (\"Intercept: \", beta0, seBeta0, tBeta0, pBeta0)\n",
    "print (\"Carats:     \", beta1, seBeta1, tBeta1, pBeta1)"
   ]
  },
  {
   "cell_type": "markdown",
   "metadata": {},
   "source": [
    "If the p-value is less than the significance level (0.05 in our case) then the model explains the variation in the response."
   ]
  },
  {
   "cell_type": "markdown",
   "metadata": {},
   "source": [
    "### T confidence intervals"
   ]
  },
  {
   "cell_type": "markdown",
   "metadata": {},
   "source": [
    "For small samples we can use the t-distribution to calculate the confidence intervals.  \n",
    "The t-distribution has been invented by William Gosset in 1908 and is indexed by a degrees of freedom (*df*): it gets more like a standard normal as *df* gets larger."
   ]
  },
  {
   "cell_type": "markdown",
   "metadata": {},
   "source": [
    "*ppf()* is the Percent Point Function from *SciPy.stats*, that has as input the quantile (for a 2-sided 95% probability) and the degrees of freedom."
   ]
  },
  {
   "cell_type": "code",
   "execution_count": 50,
   "metadata": {
    "collapsed": false
   },
   "outputs": [
    {
     "data": {
      "text/plain": [
       "2.0128955952945886"
      ]
     },
     "execution_count": 50,
     "metadata": {},
     "output_type": "execute_result"
    }
   ],
   "source": [
    "alpha=0.05 # confidence interval for two-sided hypothesis\n",
    "qt = 1 - (alpha/2)  # =0.975 for a 2-sided 95% probability\n",
    "t_value = t.ppf(qt, df=degreesOfFreedom) \n",
    "t_value"
   ]
  },
  {
   "cell_type": "markdown",
   "metadata": {},
   "source": [
    "Now we can calculate the intervals for beta0 and beta1:"
   ]
  },
  {
   "cell_type": "code",
   "execution_count": 51,
   "metadata": {
    "collapsed": false
   },
   "outputs": [
    {
     "data": {
      "text/plain": [
       "[-294.48695652479677, -224.76485785831295]"
      ]
     },
     "execution_count": 51,
     "metadata": {},
     "output_type": "execute_result"
    }
   ],
   "source": [
    "limits=[-1,1]\n",
    "[beta0 + i*t_value*seBeta0 for i in limits]"
   ]
  },
  {
   "cell_type": "code",
   "execution_count": 52,
   "metadata": {
    "collapsed": false
   },
   "outputs": [
    {
     "data": {
      "text/plain": [
       "[3556.3984132043752, 3885.6512898965693]"
      ]
     },
     "execution_count": 52,
     "metadata": {},
     "output_type": "execute_result"
    }
   ],
   "source": [
    "[beta1 + i*t_value*seBeta1 for i in limits]"
   ]
  },
  {
   "cell_type": "markdown",
   "metadata": {},
   "source": [
    "Interpretation: **With 95% confidence, we estimate that 1 carat increase in diamond size results in a 3556 to 3886 increase in price in (Singapore) dollars.**"
   ]
  },
  {
   "cell_type": "markdown",
   "metadata": {},
   "source": [
    "### Plot the confidence interval"
   ]
  },
  {
   "cell_type": "markdown",
   "metadata": {},
   "source": [
    "We calculate the interval for each x value; will use the isf() function to get the inverse survival function:"
   ]
  },
  {
   "cell_type": "code",
   "execution_count": 53,
   "metadata": {
    "collapsed": false
   },
   "outputs": [],
   "source": [
    "predicted = simpleModel.fittedvalues\n",
    "x_1 = simpleModel.model.exog # just the x values plus column of 1\n",
    "  # get standard deviation of predicted values\n",
    "predvar = simpleModel.mse_resid + (x_1 * np.dot(simpleModel.cov_params(),\n",
    "                                                 x_1.T).T).sum(1)\n",
    "predstd = np.sqrt(predvar)\n",
    "\n",
    "tppf = t.isf(alpha/2.0, simpleModel.df_resid)\n",
    "\n",
    "interval_u = predicted + tppf * predstd\n",
    "interval_l = predicted - tppf * predstd"
   ]
  },
  {
   "cell_type": "code",
   "execution_count": 54,
   "metadata": {
    "collapsed": false
   },
   "outputs": [
    {
     "data": {
      "text/plain": [
       "<matplotlib.legend.Legend at 0x118a9ada0>"
      ]
     },
     "execution_count": 54,
     "metadata": {},
     "output_type": "execute_result"
    },
    {
     "data": {
      "image/png": "[encoded data removed]",
      "text/plain": [
       "<matplotlib.figure.Figure at 0x118859710>"
      ]
     },
     "metadata": {},
     "output_type": "display_data"
    }
   ],
   "source": [
    "fig, ax = plt.subplots()\n",
    "ax.plot(x,y, 'o', label=\"data\")\n",
    "ax.plot(x, simpleModel.fittedvalues, 'g-', label=\"OLS\")\n",
    "\n",
    "ax.plot(x, interval_u, 'c--', label = \"Intervals\")\n",
    "ax.plot(x, interval_l, 'c--')\n",
    "   # pretty-up the plot\n",
    "fig.suptitle(\"OLS Linear Regression with confidence intervals\")\n",
    "ax.set_ylabel('Predicted Price [SIN $]')\n",
    "ax.set_xlabel('Weight [Carat]')\n",
    "ax.grid(True)\n",
    "ax.legend(loc='best')"
   ]
  },
  {
   "cell_type": "markdown",
   "metadata": {},
   "source": [
    "## Summary of statistic values"
   ]
  },
  {
   "cell_type": "markdown",
   "metadata": {},
   "source": [
    "The *statsmodel* package offers an overview of the model values, similar to what we calculated above:"
   ]
  },
  {
   "cell_type": "code",
   "execution_count": 55,
   "metadata": {
    "collapsed": false
   },
   "outputs": [
    {
     "data": {
      "text/html": [
       "<table class=\"simpletable\">\n",
       "<caption>OLS Regression Results</caption>\n",
       "<tr>\n",
       "  <th>Dep. Variable:</th>          <td>price</td>      <th>  R-squared:         </th> <td>   0.978</td>\n",
       "</tr>\n",
       "<tr>\n",
       "  <th>Model:</th>                   <td>OLS</td>       <th>  Adj. R-squared:    </th> <td>   0.978</td>\n",
       "</tr>\n",
       "<tr>\n",
       "  <th>Method:</th>             <td>Least Squares</td>  <th>  F-statistic:       </th> <td>   2070.</td>\n",
       "</tr>\n",
       "<tr>\n",
       "  <th>Date:</th>             <td>Sat, 25 Feb 2017</td> <th>  Prob (F-statistic):</th> <td>6.75e-40</td>\n",
       "</tr>\n",
       "<tr>\n",
       "  <th>Time:</th>                 <td>13:50:30</td>     <th>  Log-Likelihood:    </th> <td> -233.20</td>\n",
       "</tr>\n",
       "<tr>\n",
       "  <th>No. Observations:</th>      <td>    48</td>      <th>  AIC:               </th> <td>   470.4</td>\n",
       "</tr>\n",
       "<tr>\n",
       "  <th>Df Residuals:</th>          <td>    46</td>      <th>  BIC:               </th> <td>   474.1</td>\n",
       "</tr>\n",
       "<tr>\n",
       "  <th>Df Model:</th>              <td>     1</td>      <th>                     </th>     <td> </td>   \n",
       "</tr>\n",
       "<tr>\n",
       "  <th>Covariance Type:</th>      <td>nonrobust</td>    <th>                     </th>     <td> </td>   \n",
       "</tr>\n",
       "</table>\n",
       "<table class=\"simpletable\">\n",
       "<tr>\n",
       "     <td></td>       <th>coef</th>     <th>std err</th>      <th>t</th>      <th>P>|t|</th> <th>[95.0% Conf. Int.]</th> \n",
       "</tr>\n",
       "<tr>\n",
       "  <th>const</th>  <td> -259.6259</td> <td>   17.319</td> <td>  -14.991</td> <td> 0.000</td> <td> -294.487  -224.765</td>\n",
       "</tr>\n",
       "<tr>\n",
       "  <th>carats</th> <td> 3721.0249</td> <td>   81.786</td> <td>   45.497</td> <td> 0.000</td> <td> 3556.398  3885.651</td>\n",
       "</tr>\n",
       "</table>\n",
       "<table class=\"simpletable\">\n",
       "<tr>\n",
       "  <th>Omnibus:</th>       <td> 0.739</td> <th>  Durbin-Watson:     </th> <td>   1.994</td>\n",
       "</tr>\n",
       "<tr>\n",
       "  <th>Prob(Omnibus):</th> <td> 0.691</td> <th>  Jarque-Bera (JB):  </th> <td>   0.181</td>\n",
       "</tr>\n",
       "<tr>\n",
       "  <th>Skew:</th>          <td> 0.056</td> <th>  Prob(JB):          </th> <td>   0.913</td>\n",
       "</tr>\n",
       "<tr>\n",
       "  <th>Kurtosis:</th>      <td> 3.280</td> <th>  Cond. No.          </th> <td>    18.5</td>\n",
       "</tr>\n",
       "</table>"
      ],
      "text/plain": [
       "<class 'statsmodels.iolib.summary.Summary'>\n",
       "\"\"\"\n",
       "                            OLS Regression Results                            \n",
       "==============================================================================\n",
       "Dep. Variable:                  price   R-squared:                       0.978\n",
       "Model:                            OLS   Adj. R-squared:                  0.978\n",
       "Method:                 Least Squares   F-statistic:                     2070.\n",
       "Date:                Sat, 25 Feb 2017   Prob (F-statistic):           6.75e-40\n",
       "Time:                        13:50:30   Log-Likelihood:                -233.20\n",
       "No. Observations:                  48   AIC:                             470.4\n",
       "Df Residuals:                      46   BIC:                             474.1\n",
       "Df Model:                           1                                         \n",
       "Covariance Type:            nonrobust                                         \n",
       "==============================================================================\n",
       "                 coef    std err          t      P>|t|      [95.0% Conf. Int.]\n",
       "------------------------------------------------------------------------------\n",
       "const       -259.6259     17.319    -14.991      0.000      -294.487  -224.765\n",
       "carats      3721.0249     81.786     45.497      0.000      3556.398  3885.651\n",
       "==============================================================================\n",
       "Omnibus:                        0.739   Durbin-Watson:                   1.994\n",
       "Prob(Omnibus):                  0.691   Jarque-Bera (JB):                0.181\n",
       "Skew:                           0.056   Prob(JB):                        0.913\n",
       "Kurtosis:                       3.280   Cond. No.                         18.5\n",
       "==============================================================================\n",
       "\n",
       "Warnings:\n",
       "[1] Standard Errors assume that the covariance matrix of the errors is correctly specified.\n",
       "\"\"\""
      ]
     },
     "execution_count": 55,
     "metadata": {},
     "output_type": "execute_result"
    }
   ],
   "source": [
    "simpleModel.summary()"
   ]
  },
  {
   "cell_type": "markdown",
   "metadata": {},
   "source": [
    "Many values can also be accessed directly, for example the standard errors:"
   ]
  },
  {
   "cell_type": "code",
   "execution_count": 56,
   "metadata": {
    "collapsed": false
   },
   "outputs": [
    {
     "data": {
      "text/plain": [
       "const     17.318856\n",
       "carats    81.785880\n",
       "dtype: float64"
      ]
     },
     "execution_count": 56,
     "metadata": {},
     "output_type": "execute_result"
    }
   ],
   "source": [
    "simpleModel.bse"
   ]
  },
  {
   "cell_type": "markdown",
   "metadata": {},
   "source": [
    "You can see all the values available using *dir()*:"
   ]
  },
  {
   "cell_type": "code",
   "execution_count": 57,
   "metadata": {
    "collapsed": false
   },
   "outputs": [
    {
     "data": {
      "text/plain": [
       "['HC0_se',\n",
       " 'HC1_se',\n",
       " 'HC2_se',\n",
       " 'HC3_se',\n",
       " '_HCCM',\n",
       " '__class__',\n",
       " '__delattr__',\n",
       " '__dict__',\n",
       " '__dir__',\n",
       " '__doc__',\n",
       " '__eq__',\n",
       " '__format__',\n",
       " '__ge__',\n",
       " '__getattribute__',\n",
       " '__gt__',\n",
       " '__hash__',\n",
       " '__init__',\n",
       " '__le__',\n",
       " '__lt__',\n",
       " '__module__',\n",
       " '__ne__',\n",
       " '__new__',\n",
       " '__reduce__',\n",
       " '__reduce_ex__',\n",
       " '__repr__',\n",
       " '__setattr__',\n",
       " '__sizeof__',\n",
       " '__str__',\n",
       " '__subclasshook__',\n",
       " '__weakref__',\n",
       " '_cache',\n",
       " '_data_attr',\n",
       " '_get_robustcov_results',\n",
       " '_is_nested',\n",
       " '_wexog_singular_values',\n",
       " 'aic',\n",
       " 'bic',\n",
       " 'bse',\n",
       " 'centered_tss',\n",
       " 'compare_f_test',\n",
       " 'compare_lm_test',\n",
       " 'compare_lr_test',\n",
       " 'condition_number',\n",
       " 'conf_int',\n",
       " 'conf_int_el',\n",
       " 'cov_HC0',\n",
       " 'cov_HC1',\n",
       " 'cov_HC2',\n",
       " 'cov_HC3',\n",
       " 'cov_kwds',\n",
       " 'cov_params',\n",
       " 'cov_type',\n",
       " 'df_model',\n",
       " 'df_resid',\n",
       " 'diagn',\n",
       " 'eigenvals',\n",
       " 'el_test',\n",
       " 'ess',\n",
       " 'f_pvalue',\n",
       " 'f_test',\n",
       " 'fittedvalues',\n",
       " 'fvalue',\n",
       " 'get_influence',\n",
       " 'get_robustcov_results',\n",
       " 'initialize',\n",
       " 'k_constant',\n",
       " 'llf',\n",
       " 'load',\n",
       " 'model',\n",
       " 'mse_model',\n",
       " 'mse_resid',\n",
       " 'mse_total',\n",
       " 'nobs',\n",
       " 'normalized_cov_params',\n",
       " 'outlier_test',\n",
       " 'params',\n",
       " 'predict',\n",
       " 'pvalues',\n",
       " 'remove_data',\n",
       " 'resid',\n",
       " 'resid_pearson',\n",
       " 'rsquared',\n",
       " 'rsquared_adj',\n",
       " 'save',\n",
       " 'scale',\n",
       " 'ssr',\n",
       " 'summary',\n",
       " 'summary2',\n",
       " 't_test',\n",
       " 'tvalues',\n",
       " 'uncentered_tss',\n",
       " 'use_t',\n",
       " 'wald_test',\n",
       " 'wresid']"
      ]
     },
     "execution_count": 57,
     "metadata": {},
     "output_type": "execute_result"
    }
   ],
   "source": [
    "dir(simpleModel)"
   ]
  }
 ],
 "metadata": {
  "anaconda-cloud": {},
  "kernelspec": {
   "display_name": "Python [conda root]",
   "language": "python",
   "name": "conda-root-py"
  },
  "language_info": {
   "codemirror_mode": {
    "name": "ipython",
    "version": 3
   },
   "file_extension": ".py",
   "mimetype": "text/x-python",
   "name": "python",
   "nbconvert_exporter": "python",
   "pygments_lexer": "ipython3",
   "version": "3.5.2"
  }
 },
 "nbformat": 4,
 "nbformat_minor": 1
}
