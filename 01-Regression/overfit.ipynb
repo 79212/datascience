{
 "cells": [
  {
   "cell_type": "markdown",
   "metadata": {},
   "source": [
    "# The overfitting problem"
   ]
  },
  {
   "cell_type": "markdown",
   "metadata": {},
   "source": [
    "We have seen what is linear regression, how to make models and algorithms for estimating the parameters of such models, how to measure the loss.\n",
    "\n",
    "Now we see how to assess how well the considered method should perform in predicting new data, how to select amongst possible models to choose the best performing.  \n",
    "This leads directly to the bias-variance tradeoff, which is fundamental to machine learning. "
   ]
  },
  {
   "cell_type": "markdown",
   "metadata": {},
   "source": [
    "## Load in the data\n",
    "\n",
    "The dataset is from house sales in King County, the region where the city of Seattle, WA is located."
   ]
  },
  {
   "cell_type": "code",
   "execution_count": 1,
   "metadata": {
    "collapsed": true
   },
   "outputs": [],
   "source": [
    "import pandas as pd"
   ]
  },
  {
   "cell_type": "code",
   "execution_count": 2,
   "metadata": {
    "collapsed": true
   },
   "outputs": [],
   "source": [
    "dtype_dict = {'bathrooms':float, 'waterfront':int, 'sqft_above':int, 'sqft_living15':float, \n",
    "              'grade':int, 'yr_renovated':int, 'price':float, 'bedrooms':float, 'zipcode':str, \n",
    "              'long':float, 'sqft_lot15':float, 'sqft_living':float, 'floors':str, \n",
    "              'condition':int, 'lat':float, 'date':str, 'sqft_basement':int, 'yr_built':int, \n",
    "              'id':str, 'sqft_lot':int, 'view':int}"
   ]
  },
  {
   "cell_type": "code",
   "execution_count": 3,
   "metadata": {
    "collapsed": true,
    "scrolled": true
   },
   "outputs": [],
   "source": [
    "sales = pd.read_csv('../datasets/kc_house_data.csv', dtype=dtype_dict)"
   ]
  },
  {
   "cell_type": "code",
   "execution_count": 4,
   "metadata": {},
   "outputs": [
    {
     "data": {
      "text/html": [
       "<div>\n",
       "<table border=\"1\" class=\"dataframe\">\n",
       "  <thead>\n",
       "    <tr style=\"text-align: right;\">\n",
       "      <th></th>\n",
       "      <th>id</th>\n",
       "      <th>date</th>\n",
       "      <th>price</th>\n",
       "      <th>bedrooms</th>\n",
       "      <th>bathrooms</th>\n",
       "      <th>sqft_living</th>\n",
       "      <th>sqft_lot</th>\n",
       "      <th>floors</th>\n",
       "      <th>waterfront</th>\n",
       "      <th>view</th>\n",
       "      <th>...</th>\n",
       "      <th>grade</th>\n",
       "      <th>sqft_above</th>\n",
       "      <th>sqft_basement</th>\n",
       "      <th>yr_built</th>\n",
       "      <th>yr_renovated</th>\n",
       "      <th>zipcode</th>\n",
       "      <th>lat</th>\n",
       "      <th>long</th>\n",
       "      <th>sqft_living15</th>\n",
       "      <th>sqft_lot15</th>\n",
       "    </tr>\n",
       "  </thead>\n",
       "  <tbody>\n",
       "    <tr>\n",
       "      <th>0</th>\n",
       "      <td>7129300520</td>\n",
       "      <td>20141013T000000</td>\n",
       "      <td>221900.0</td>\n",
       "      <td>3.0</td>\n",
       "      <td>1.00</td>\n",
       "      <td>1180.0</td>\n",
       "      <td>5650</td>\n",
       "      <td>1</td>\n",
       "      <td>0</td>\n",
       "      <td>0</td>\n",
       "      <td>...</td>\n",
       "      <td>7</td>\n",
       "      <td>1180</td>\n",
       "      <td>0</td>\n",
       "      <td>1955</td>\n",
       "      <td>0</td>\n",
       "      <td>98178</td>\n",
       "      <td>47.5112</td>\n",
       "      <td>-122.257</td>\n",
       "      <td>1340.0</td>\n",
       "      <td>5650.0</td>\n",
       "    </tr>\n",
       "    <tr>\n",
       "      <th>1</th>\n",
       "      <td>6414100192</td>\n",
       "      <td>20141209T000000</td>\n",
       "      <td>538000.0</td>\n",
       "      <td>3.0</td>\n",
       "      <td>2.25</td>\n",
       "      <td>2570.0</td>\n",
       "      <td>7242</td>\n",
       "      <td>2</td>\n",
       "      <td>0</td>\n",
       "      <td>0</td>\n",
       "      <td>...</td>\n",
       "      <td>7</td>\n",
       "      <td>2170</td>\n",
       "      <td>400</td>\n",
       "      <td>1951</td>\n",
       "      <td>1991</td>\n",
       "      <td>98125</td>\n",
       "      <td>47.7210</td>\n",
       "      <td>-122.319</td>\n",
       "      <td>1690.0</td>\n",
       "      <td>7639.0</td>\n",
       "    </tr>\n",
       "    <tr>\n",
       "      <th>2</th>\n",
       "      <td>5631500400</td>\n",
       "      <td>20150225T000000</td>\n",
       "      <td>180000.0</td>\n",
       "      <td>2.0</td>\n",
       "      <td>1.00</td>\n",
       "      <td>770.0</td>\n",
       "      <td>10000</td>\n",
       "      <td>1</td>\n",
       "      <td>0</td>\n",
       "      <td>0</td>\n",
       "      <td>...</td>\n",
       "      <td>6</td>\n",
       "      <td>770</td>\n",
       "      <td>0</td>\n",
       "      <td>1933</td>\n",
       "      <td>0</td>\n",
       "      <td>98028</td>\n",
       "      <td>47.7379</td>\n",
       "      <td>-122.233</td>\n",
       "      <td>2720.0</td>\n",
       "      <td>8062.0</td>\n",
       "    </tr>\n",
       "    <tr>\n",
       "      <th>3</th>\n",
       "      <td>2487200875</td>\n",
       "      <td>20141209T000000</td>\n",
       "      <td>604000.0</td>\n",
       "      <td>4.0</td>\n",
       "      <td>3.00</td>\n",
       "      <td>1960.0</td>\n",
       "      <td>5000</td>\n",
       "      <td>1</td>\n",
       "      <td>0</td>\n",
       "      <td>0</td>\n",
       "      <td>...</td>\n",
       "      <td>7</td>\n",
       "      <td>1050</td>\n",
       "      <td>910</td>\n",
       "      <td>1965</td>\n",
       "      <td>0</td>\n",
       "      <td>98136</td>\n",
       "      <td>47.5208</td>\n",
       "      <td>-122.393</td>\n",
       "      <td>1360.0</td>\n",
       "      <td>5000.0</td>\n",
       "    </tr>\n",
       "    <tr>\n",
       "      <th>4</th>\n",
       "      <td>1954400510</td>\n",
       "      <td>20150218T000000</td>\n",
       "      <td>510000.0</td>\n",
       "      <td>3.0</td>\n",
       "      <td>2.00</td>\n",
       "      <td>1680.0</td>\n",
       "      <td>8080</td>\n",
       "      <td>1</td>\n",
       "      <td>0</td>\n",
       "      <td>0</td>\n",
       "      <td>...</td>\n",
       "      <td>8</td>\n",
       "      <td>1680</td>\n",
       "      <td>0</td>\n",
       "      <td>1987</td>\n",
       "      <td>0</td>\n",
       "      <td>98074</td>\n",
       "      <td>47.6168</td>\n",
       "      <td>-122.045</td>\n",
       "      <td>1800.0</td>\n",
       "      <td>7503.0</td>\n",
       "    </tr>\n",
       "  </tbody>\n",
       "</table>\n",
       "<p>5 rows × 21 columns</p>\n",
       "</div>"
      ],
      "text/plain": [
       "           id             date     price  bedrooms  bathrooms  sqft_living  \\\n",
       "0  7129300520  20141013T000000  221900.0       3.0       1.00       1180.0   \n",
       "1  6414100192  20141209T000000  538000.0       3.0       2.25       2570.0   \n",
       "2  5631500400  20150225T000000  180000.0       2.0       1.00        770.0   \n",
       "3  2487200875  20141209T000000  604000.0       4.0       3.00       1960.0   \n",
       "4  1954400510  20150218T000000  510000.0       3.0       2.00       1680.0   \n",
       "\n",
       "   sqft_lot floors  waterfront  view     ...      grade  sqft_above  \\\n",
       "0      5650      1           0     0     ...          7        1180   \n",
       "1      7242      2           0     0     ...          7        2170   \n",
       "2     10000      1           0     0     ...          6         770   \n",
       "3      5000      1           0     0     ...          7        1050   \n",
       "4      8080      1           0     0     ...          8        1680   \n",
       "\n",
       "   sqft_basement  yr_built  yr_renovated  zipcode      lat     long  \\\n",
       "0              0      1955             0    98178  47.5112 -122.257   \n",
       "1            400      1951          1991    98125  47.7210 -122.319   \n",
       "2              0      1933             0    98028  47.7379 -122.233   \n",
       "3            910      1965             0    98136  47.5208 -122.393   \n",
       "4              0      1987             0    98074  47.6168 -122.045   \n",
       "\n",
       "   sqft_living15  sqft_lot15  \n",
       "0         1340.0      5650.0  \n",
       "1         1690.0      7639.0  \n",
       "2         2720.0      8062.0  \n",
       "3         1360.0      5000.0  \n",
       "4         1800.0      7503.0  \n",
       "\n",
       "[5 rows x 21 columns]"
      ]
     },
     "execution_count": 4,
     "metadata": {},
     "output_type": "execute_result"
    }
   ],
   "source": [
    "sales.head()"
   ]
  },
  {
   "cell_type": "code",
   "execution_count": 5,
   "metadata": {},
   "outputs": [
    {
     "data": {
      "text/plain": [
       "(21613, 21)"
      ]
     },
     "execution_count": 5,
     "metadata": {},
     "output_type": "execute_result"
    }
   ],
   "source": [
    "sales.shape"
   ]
  },
  {
   "cell_type": "code",
   "execution_count": 6,
   "metadata": {},
   "outputs": [
    {
     "data": {
      "text/plain": [
       "21613"
      ]
     },
     "execution_count": 6,
     "metadata": {},
     "output_type": "execute_result"
    }
   ],
   "source": [
    "m = sales.shape[0] # number of training examples\n",
    "m"
   ]
  },
  {
   "cell_type": "markdown",
   "metadata": {},
   "source": [
    "The dataset contains information (21 features, including the price) related to 21613 houses.  \n",
    "Our target variable (i.e., what we want to predict when a new house gets on sale) is the price."
   ]
  },
  {
   "cell_type": "markdown",
   "metadata": {},
   "source": [
    "## Baseline: the simplest model"
   ]
  },
  {
   "cell_type": "markdown",
   "metadata": {},
   "source": [
    "Now let's compute the loss in the case of the simplest model: a fixed price equal to the average of historic prices, independently on house size, rooms, location, ..."
   ]
  },
  {
   "cell_type": "code",
   "execution_count": 7,
   "metadata": {
    "collapsed": true
   },
   "outputs": [],
   "source": [
    "# Let's compute the mean of the House Prices in King County \n",
    "y = sales['price'] # extract the price column"
   ]
  },
  {
   "cell_type": "code",
   "execution_count": 8,
   "metadata": {},
   "outputs": [
    {
     "name": "stdout",
     "output_type": "stream",
     "text": [
      "average price: $540088 \n"
     ]
    }
   ],
   "source": [
    "avg_price = y.mean() # this is our baseline\n",
    "print (\"average price: ${:.0f} \".format(avg_price))"
   ]
  },
  {
   "cell_type": "code",
   "execution_count": 9,
   "metadata": {},
   "outputs": [
    {
     "data": {
      "text/plain": [
       "221900.0"
      ]
     },
     "execution_count": 9,
     "metadata": {},
     "output_type": "execute_result"
    }
   ],
   "source": [
    "ExamplePrice = y[0]\n",
    "ExamplePrice"
   ]
  },
  {
   "cell_type": "markdown",
   "metadata": {},
   "source": [
    "The predictions are very easy to calculate, just the baseline value:"
   ]
  },
  {
   "cell_type": "code",
   "execution_count": 10,
   "metadata": {
    "collapsed": true
   },
   "outputs": [],
   "source": [
    "def get_baseline_predictions():\n",
    "       # Simplest version: return the baseline as predicted values\n",
    "    predicted_values = avg_price \n",
    "    return predicted_values"
   ]
  },
  {
   "cell_type": "markdown",
   "metadata": {},
   "source": [
    "Example:"
   ]
  },
  {
   "cell_type": "code",
   "execution_count": 11,
   "metadata": {},
   "outputs": [
    {
     "name": "stdout",
     "output_type": "stream",
     "text": [
      "The estimated price for a house with 2500 squared feet is 540088\n"
     ]
    }
   ],
   "source": [
    "my_house_size = 2500\n",
    "estimated_price = get_baseline_predictions()\n",
    "print (\"The estimated price for a house with {} squared feet is {:.0f}\".format(my_house_size, estimated_price))"
   ]
  },
  {
   "cell_type": "markdown",
   "metadata": {},
   "source": [
    "The estimated price for the example house will still be around 540K, wile the real value is around 222K. Quite an error!"
   ]
  },
  {
   "cell_type": "markdown",
   "metadata": {},
   "source": [
    "## Measures of loss "
   ]
  },
  {
   "cell_type": "markdown",
   "metadata": {},
   "source": [
    "There are several way of implementing the loss, I use the squared error here.  \n",
    "\n",
    "$L = [y - f(X)]^2$"
   ]
  },
  {
   "cell_type": "code",
   "execution_count": 12,
   "metadata": {
    "collapsed": true
   },
   "outputs": [],
   "source": [
    "import numpy as np\n",
    "def get_loss(yhat, target):\n",
    "    \"\"\"\n",
    "    Arguments:\n",
    "    yhat -- vector of size m (predicted labels)\n",
    "    target -- vector of size m (true labels)\n",
    "    \n",
    "    Returns:\n",
    "    loss -- the value of the L2 loss function\n",
    "    \"\"\"\n",
    "      # compute the residuals (since we are squaring it doesn't matter \n",
    "      #   which order you subtract)\n",
    "      # np.dot will square the residuals and add them up\n",
    "    loss = np.dot((target - yhat), (target - yhat))\n",
    "\n",
    "    return(loss)"
   ]
  },
  {
   "cell_type": "markdown",
   "metadata": {},
   "source": [
    "To better see the value of the cost function we use also the RMSE, the Root Mean Square Deviation.  \n",
    "Basically the average of the losses, rooted."
   ]
  },
  {
   "cell_type": "code",
   "execution_count": 13,
   "metadata": {},
   "outputs": [
    {
     "name": "stdout",
     "output_type": "stream",
     "text": [
      "Training Error for baseline RSS: 2912916761921302\n",
      "Average Training Error for baseline RMSE: 367119\n"
     ]
    }
   ],
   "source": [
    "baselineCost = get_loss(get_baseline_predictions(), y)\n",
    "\n",
    "print (\"Training Error for baseline RSS: {:.0f}\".format(baselineCost))\n",
    "print (\"Average Training Error for baseline RMSE: {:.0f}\".format(np.sqrt(baselineCost/m)))"
   ]
  },
  {
   "cell_type": "markdown",
   "metadata": {},
   "source": [
    "As you can see, it is quite high error, especially related to the average selling price."
   ]
  },
  {
   "cell_type": "markdown",
   "metadata": {},
   "source": [
    "Now, we can look at how training error behaves as model complexity increases."
   ]
  },
  {
   "cell_type": "markdown",
   "metadata": {},
   "source": [
    "## Learning a better but still simple model"
   ]
  },
  {
   "cell_type": "markdown",
   "metadata": {},
   "source": [
    "Using a constant value, the average, is easy but does not make too much sense.\n",
    "Let's create a linear model with the house size as the feature. We expect that the price is dependent on the size: bigger house, more expensive."
   ]
  },
  {
   "cell_type": "code",
   "execution_count": 14,
   "metadata": {
    "collapsed": true
   },
   "outputs": [],
   "source": [
    "from sklearn import linear_model"
   ]
  },
  {
   "cell_type": "code",
   "execution_count": 15,
   "metadata": {
    "collapsed": true
   },
   "outputs": [],
   "source": [
    "simple_model = linear_model.LinearRegression()"
   ]
  },
  {
   "cell_type": "code",
   "execution_count": 16,
   "metadata": {
    "collapsed": true
   },
   "outputs": [],
   "source": [
    "simple_features = sales[['sqft_living']] # input X: the house size"
   ]
  },
  {
   "cell_type": "code",
   "execution_count": 17,
   "metadata": {},
   "outputs": [
    {
     "data": {
      "text/plain": [
       "LinearRegression(copy_X=True, fit_intercept=True, n_jobs=1, normalize=False)"
      ]
     },
     "execution_count": 17,
     "metadata": {},
     "output_type": "execute_result"
    }
   ],
   "source": [
    "simple_model.fit(simple_features, y)"
   ]
  },
  {
   "cell_type": "markdown",
   "metadata": {},
   "source": [
    "Now that we have fit the model we can extract the regression weights (coefficients) as follows:"
   ]
  },
  {
   "cell_type": "code",
   "execution_count": 18,
   "metadata": {},
   "outputs": [
    {
     "name": "stdout",
     "output_type": "stream",
     "text": [
      "-43580.7430945\n"
     ]
    }
   ],
   "source": [
    "simple_model_intercept = simple_model.intercept_\n",
    "print (simple_model_intercept)"
   ]
  },
  {
   "cell_type": "code",
   "execution_count": 19,
   "metadata": {},
   "outputs": [
    {
     "name": "stdout",
     "output_type": "stream",
     "text": [
      "[ 280.6235679]\n"
     ]
    }
   ],
   "source": [
    "simple_model_weights = simple_model.coef_\n",
    "print (simple_model_weights)"
   ]
  },
  {
   "cell_type": "markdown",
   "metadata": {},
   "source": [
    "This means that our simple model to predict a house price y is (approximated):    \n",
    "$y = -43581 + 281x $  \n",
    "where x is the size in squared feet.  \n",
    "It is not anymore a horizontal line but a diagonal one, with a slope."
   ]
  },
  {
   "cell_type": "markdown",
   "metadata": {},
   "source": [
    "## Making Predictions\n",
    "\n",
    "Recall that once a model is built we can use the .predict() function to find the predicted values for data we pass. For example using the example model above:"
   ]
  },
  {
   "cell_type": "code",
   "execution_count": 20,
   "metadata": {},
   "outputs": [
    {
     "name": "stdout",
     "output_type": "stream",
     "text": [
      "287555.067025\n"
     ]
    }
   ],
   "source": [
    "training_predictions = simple_model.predict(simple_features)\n",
    "print (training_predictions[0])"
   ]
  },
  {
   "cell_type": "markdown",
   "metadata": {},
   "source": [
    "We are getting closer to the real value for the example house (recall, it's around 222K)."
   ]
  },
  {
   "cell_type": "markdown",
   "metadata": {},
   "source": [
    "### Compute the Training Error"
   ]
  },
  {
   "cell_type": "markdown",
   "metadata": {},
   "source": [
    "Now that we can make predictions given the model, let's again compute the RSS and the RMSE."
   ]
  },
  {
   "cell_type": "code",
   "execution_count": 21,
   "metadata": {},
   "outputs": [
    {
     "name": "stdout",
     "output_type": "stream",
     "text": [
      "Training Error for baseline RSS: 1477276362322490\n",
      "Average Training Error for baseline RMSE: 261441\n"
     ]
    }
   ],
   "source": [
    "    # First get the predictions using the features subset\n",
    "predictions = simple_model.predict(sales[['sqft_living']])\n",
    "simpleCost = get_loss(predictions, y) \n",
    "print (\"Training Error for baseline RSS: {:.0f}\".format(simpleCost))\n",
    "print (\"Average Training Error for baseline RMSE: {:.0f}\".format(np.sqrt(simpleCost/m)))"
   ]
  },
  {
   "cell_type": "markdown",
   "metadata": {},
   "source": [
    "The simple model reduced greatly the training error."
   ]
  },
  {
   "cell_type": "markdown",
   "metadata": {},
   "source": [
    "## Learning a multiple regression model"
   ]
  },
  {
   "cell_type": "markdown",
   "metadata": {},
   "source": [
    "We can add more features to the model, for example the number of bedrooms and bathrooms."
   ]
  },
  {
   "cell_type": "code",
   "execution_count": 22,
   "metadata": {
    "collapsed": true
   },
   "outputs": [],
   "source": [
    "more_features = sales[['sqft_living', 'bedrooms', 'bathrooms']] # input X"
   ]
  },
  {
   "cell_type": "markdown",
   "metadata": {},
   "source": [
    "We can learn a multiple regression model predicting 'price' based on the above features on the data with the following code:"
   ]
  },
  {
   "cell_type": "code",
   "execution_count": 23,
   "metadata": {},
   "outputs": [
    {
     "data": {
      "text/plain": [
       "LinearRegression(copy_X=True, fit_intercept=True, n_jobs=1, normalize=False)"
      ]
     },
     "execution_count": 23,
     "metadata": {},
     "output_type": "execute_result"
    }
   ],
   "source": [
    "better_model = linear_model.LinearRegression()\n",
    "better_model.fit(more_features, y)"
   ]
  },
  {
   "cell_type": "markdown",
   "metadata": {},
   "source": [
    "Now that we have fitted the model we can extract the regression weights (coefficients) as follows:"
   ]
  },
  {
   "cell_type": "code",
   "execution_count": 24,
   "metadata": {},
   "outputs": [
    {
     "name": "stdout",
     "output_type": "stream",
     "text": [
      "74847.1408013\n"
     ]
    }
   ],
   "source": [
    "betterModel_intercept = better_model.intercept_\n",
    "print (betterModel_intercept)"
   ]
  },
  {
   "cell_type": "code",
   "execution_count": 25,
   "metadata": {},
   "outputs": [
    {
     "name": "stdout",
     "output_type": "stream",
     "text": [
      "[   309.39239013 -57860.8943206    7932.71222266]\n"
     ]
    }
   ],
   "source": [
    "betterModel_weights = better_model.coef_\n",
    "print (betterModel_weights)"
   ]
  },
  {
   "cell_type": "markdown",
   "metadata": {},
   "source": [
    "The better model is therefore:  \n",
    "$y = 74847 + 309x1 - 57861x2 + 7933x3$  \n",
    "Note that the equation has now three variables: the size, the bedrooms and the bathrooms."
   ]
  },
  {
   "cell_type": "markdown",
   "metadata": {},
   "source": [
    "### Making Predictions\n",
    "\n",
    "Again we can use the .predict() function to find the predicted values for data we pass. For the model above:"
   ]
  },
  {
   "cell_type": "code",
   "execution_count": 26,
   "metadata": {},
   "outputs": [
    {
     "name": "stdout",
     "output_type": "stream",
     "text": [
      "274280.190415\n"
     ]
    }
   ],
   "source": [
    "better_predictions = better_model.predict(more_features)\n",
    "print (better_predictions[0]) "
   ]
  },
  {
   "cell_type": "markdown",
   "metadata": {},
   "source": [
    "Again, a little bit closer to the real value (222K)"
   ]
  },
  {
   "cell_type": "markdown",
   "metadata": {},
   "source": [
    "### Compute the Training Error"
   ]
  },
  {
   "cell_type": "markdown",
   "metadata": {},
   "source": [
    "Now that we can make predictions given the model, let's write a function to compute the RSS of the model. "
   ]
  },
  {
   "cell_type": "code",
   "execution_count": 27,
   "metadata": {},
   "outputs": [
    {
     "name": "stdout",
     "output_type": "stream",
     "text": [
      "Training Error for baseline RSS: 1436301587370045\n",
      "Average Training Error for baseline RMSE: 257790\n"
     ]
    }
   ],
   "source": [
    "predictions = better_model.predict(more_features)\n",
    "betterCost = get_loss(predictions, y) \n",
    "print (\"Training Error for baseline RSS: {:.0f}\".format(betterCost))\n",
    "print (\"Average Training Error for baseline RMSE: {:.0f}\".format(np.sqrt(betterCost/m)))"
   ]
  },
  {
   "cell_type": "markdown",
   "metadata": {},
   "source": [
    "Only a slight improvement this time"
   ]
  },
  {
   "cell_type": "markdown",
   "metadata": {},
   "source": [
    "# Create some new features"
   ]
  },
  {
   "cell_type": "markdown",
   "metadata": {},
   "source": [
    "Although we often think of multiple regression as including multiple different features (e.g. # of bedrooms, squarefeet, and # of bathrooms) but we can also consider transformations of existing features e.g. the log of the squarefeet or even \"interaction\" features such as the product of bedrooms and bathrooms."
   ]
  },
  {
   "cell_type": "code",
   "execution_count": 28,
   "metadata": {
    "collapsed": true
   },
   "outputs": [],
   "source": [
    "from math import log"
   ]
  },
  {
   "cell_type": "markdown",
   "metadata": {},
   "source": [
    "Next we create the following new features as column :\n",
    "* bedrooms_squared = bedrooms\\*bedrooms\n",
    "* bed_bath_rooms = bedrooms\\*bathrooms\n",
    "* log_sqft_living = log(sqft_living)\n",
    "* lat_plus_long = lat + long \n",
    "* more polynomial features: bedrooms ^ 4, bathrooms ^ 7, size ^ 3\n"
   ]
  },
  {
   "cell_type": "code",
   "execution_count": 29,
   "metadata": {
    "collapsed": true
   },
   "outputs": [],
   "source": [
    "sales['bedrooms_squared'] = sales['bedrooms'].apply(lambda x: x**2)"
   ]
  },
  {
   "cell_type": "code",
   "execution_count": 30,
   "metadata": {
    "collapsed": true
   },
   "outputs": [],
   "source": [
    "sales['bed_bath_rooms'] = sales['bedrooms'] * sales.bathrooms"
   ]
  },
  {
   "cell_type": "code",
   "execution_count": 31,
   "metadata": {
    "collapsed": true
   },
   "outputs": [],
   "source": [
    "sales['log_sqft_living'] = sales['sqft_living'].apply(lambda x: log(x))"
   ]
  },
  {
   "cell_type": "code",
   "execution_count": 32,
   "metadata": {
    "collapsed": true
   },
   "outputs": [],
   "source": [
    "sales['lat_plus_long'] = sales['lat'] + sales.long"
   ]
  },
  {
   "cell_type": "code",
   "execution_count": 33,
   "metadata": {
    "collapsed": true
   },
   "outputs": [],
   "source": [
    "sales['bedrooms_4'] = sales['bedrooms'].apply(lambda x: x**4)"
   ]
  },
  {
   "cell_type": "code",
   "execution_count": 34,
   "metadata": {
    "collapsed": true
   },
   "outputs": [],
   "source": [
    "sales['bathrooms_7'] = sales['bathrooms'].apply(lambda x: x**7)"
   ]
  },
  {
   "cell_type": "code",
   "execution_count": 35,
   "metadata": {
    "collapsed": true
   },
   "outputs": [],
   "source": [
    "sales['size_3'] = sales['sqft_living'].apply(lambda x: x**3)"
   ]
  },
  {
   "cell_type": "code",
   "execution_count": 36,
   "metadata": {},
   "outputs": [
    {
     "data": {
      "text/html": [
       "<div>\n",
       "<table border=\"1\" class=\"dataframe\">\n",
       "  <thead>\n",
       "    <tr style=\"text-align: right;\">\n",
       "      <th></th>\n",
       "      <th>id</th>\n",
       "      <th>date</th>\n",
       "      <th>price</th>\n",
       "      <th>bedrooms</th>\n",
       "      <th>bathrooms</th>\n",
       "      <th>sqft_living</th>\n",
       "      <th>sqft_lot</th>\n",
       "      <th>floors</th>\n",
       "      <th>waterfront</th>\n",
       "      <th>view</th>\n",
       "      <th>...</th>\n",
       "      <th>long</th>\n",
       "      <th>sqft_living15</th>\n",
       "      <th>sqft_lot15</th>\n",
       "      <th>bedrooms_squared</th>\n",
       "      <th>bed_bath_rooms</th>\n",
       "      <th>log_sqft_living</th>\n",
       "      <th>lat_plus_long</th>\n",
       "      <th>bedrooms_4</th>\n",
       "      <th>bathrooms_7</th>\n",
       "      <th>size_3</th>\n",
       "    </tr>\n",
       "  </thead>\n",
       "  <tbody>\n",
       "    <tr>\n",
       "      <th>0</th>\n",
       "      <td>7129300520</td>\n",
       "      <td>20141013T000000</td>\n",
       "      <td>221900.0</td>\n",
       "      <td>3.0</td>\n",
       "      <td>1.00</td>\n",
       "      <td>1180.0</td>\n",
       "      <td>5650</td>\n",
       "      <td>1</td>\n",
       "      <td>0</td>\n",
       "      <td>0</td>\n",
       "      <td>...</td>\n",
       "      <td>-122.257</td>\n",
       "      <td>1340.0</td>\n",
       "      <td>5650.0</td>\n",
       "      <td>9.0</td>\n",
       "      <td>3.00</td>\n",
       "      <td>7.073270</td>\n",
       "      <td>-74.7458</td>\n",
       "      <td>81.0</td>\n",
       "      <td>1.00000</td>\n",
       "      <td>1.643032e+09</td>\n",
       "    </tr>\n",
       "    <tr>\n",
       "      <th>1</th>\n",
       "      <td>6414100192</td>\n",
       "      <td>20141209T000000</td>\n",
       "      <td>538000.0</td>\n",
       "      <td>3.0</td>\n",
       "      <td>2.25</td>\n",
       "      <td>2570.0</td>\n",
       "      <td>7242</td>\n",
       "      <td>2</td>\n",
       "      <td>0</td>\n",
       "      <td>0</td>\n",
       "      <td>...</td>\n",
       "      <td>-122.319</td>\n",
       "      <td>1690.0</td>\n",
       "      <td>7639.0</td>\n",
       "      <td>9.0</td>\n",
       "      <td>6.75</td>\n",
       "      <td>7.851661</td>\n",
       "      <td>-74.5980</td>\n",
       "      <td>81.0</td>\n",
       "      <td>291.92926</td>\n",
       "      <td>1.697459e+10</td>\n",
       "    </tr>\n",
       "    <tr>\n",
       "      <th>2</th>\n",
       "      <td>5631500400</td>\n",
       "      <td>20150225T000000</td>\n",
       "      <td>180000.0</td>\n",
       "      <td>2.0</td>\n",
       "      <td>1.00</td>\n",
       "      <td>770.0</td>\n",
       "      <td>10000</td>\n",
       "      <td>1</td>\n",
       "      <td>0</td>\n",
       "      <td>0</td>\n",
       "      <td>...</td>\n",
       "      <td>-122.233</td>\n",
       "      <td>2720.0</td>\n",
       "      <td>8062.0</td>\n",
       "      <td>4.0</td>\n",
       "      <td>2.00</td>\n",
       "      <td>6.646391</td>\n",
       "      <td>-74.4951</td>\n",
       "      <td>16.0</td>\n",
       "      <td>1.00000</td>\n",
       "      <td>4.565330e+08</td>\n",
       "    </tr>\n",
       "    <tr>\n",
       "      <th>3</th>\n",
       "      <td>2487200875</td>\n",
       "      <td>20141209T000000</td>\n",
       "      <td>604000.0</td>\n",
       "      <td>4.0</td>\n",
       "      <td>3.00</td>\n",
       "      <td>1960.0</td>\n",
       "      <td>5000</td>\n",
       "      <td>1</td>\n",
       "      <td>0</td>\n",
       "      <td>0</td>\n",
       "      <td>...</td>\n",
       "      <td>-122.393</td>\n",
       "      <td>1360.0</td>\n",
       "      <td>5000.0</td>\n",
       "      <td>16.0</td>\n",
       "      <td>12.00</td>\n",
       "      <td>7.580700</td>\n",
       "      <td>-74.8722</td>\n",
       "      <td>256.0</td>\n",
       "      <td>2187.00000</td>\n",
       "      <td>7.529536e+09</td>\n",
       "    </tr>\n",
       "    <tr>\n",
       "      <th>4</th>\n",
       "      <td>1954400510</td>\n",
       "      <td>20150218T000000</td>\n",
       "      <td>510000.0</td>\n",
       "      <td>3.0</td>\n",
       "      <td>2.00</td>\n",
       "      <td>1680.0</td>\n",
       "      <td>8080</td>\n",
       "      <td>1</td>\n",
       "      <td>0</td>\n",
       "      <td>0</td>\n",
       "      <td>...</td>\n",
       "      <td>-122.045</td>\n",
       "      <td>1800.0</td>\n",
       "      <td>7503.0</td>\n",
       "      <td>9.0</td>\n",
       "      <td>6.00</td>\n",
       "      <td>7.426549</td>\n",
       "      <td>-74.4282</td>\n",
       "      <td>81.0</td>\n",
       "      <td>128.00000</td>\n",
       "      <td>4.741632e+09</td>\n",
       "    </tr>\n",
       "  </tbody>\n",
       "</table>\n",
       "<p>5 rows × 28 columns</p>\n",
       "</div>"
      ],
      "text/plain": [
       "           id             date     price  bedrooms  bathrooms  sqft_living  \\\n",
       "0  7129300520  20141013T000000  221900.0       3.0       1.00       1180.0   \n",
       "1  6414100192  20141209T000000  538000.0       3.0       2.25       2570.0   \n",
       "2  5631500400  20150225T000000  180000.0       2.0       1.00        770.0   \n",
       "3  2487200875  20141209T000000  604000.0       4.0       3.00       1960.0   \n",
       "4  1954400510  20150218T000000  510000.0       3.0       2.00       1680.0   \n",
       "\n",
       "   sqft_lot floors  waterfront  view      ...          long  sqft_living15  \\\n",
       "0      5650      1           0     0      ...      -122.257         1340.0   \n",
       "1      7242      2           0     0      ...      -122.319         1690.0   \n",
       "2     10000      1           0     0      ...      -122.233         2720.0   \n",
       "3      5000      1           0     0      ...      -122.393         1360.0   \n",
       "4      8080      1           0     0      ...      -122.045         1800.0   \n",
       "\n",
       "   sqft_lot15  bedrooms_squared  bed_bath_rooms  log_sqft_living  \\\n",
       "0      5650.0               9.0            3.00         7.073270   \n",
       "1      7639.0               9.0            6.75         7.851661   \n",
       "2      8062.0               4.0            2.00         6.646391   \n",
       "3      5000.0              16.0           12.00         7.580700   \n",
       "4      7503.0               9.0            6.00         7.426549   \n",
       "\n",
       "  lat_plus_long  bedrooms_4  bathrooms_7        size_3  \n",
       "0      -74.7458        81.0      1.00000  1.643032e+09  \n",
       "1      -74.5980        81.0    291.92926  1.697459e+10  \n",
       "2      -74.4951        16.0      1.00000  4.565330e+08  \n",
       "3      -74.8722       256.0   2187.00000  7.529536e+09  \n",
       "4      -74.4282        81.0    128.00000  4.741632e+09  \n",
       "\n",
       "[5 rows x 28 columns]"
      ]
     },
     "execution_count": 36,
     "metadata": {},
     "output_type": "execute_result"
    }
   ],
   "source": [
    "sales.head()"
   ]
  },
  {
   "cell_type": "markdown",
   "metadata": {},
   "source": [
    "* Squaring bedrooms will increase the separation between not many bedrooms (e.g. 1) and lots of bedrooms (e.g. 4) since 1^2 = 1 but 4^2 = 16. Consequently this feature will mostly affect houses with many bedrooms.\n",
    "* bedrooms times bathrooms gives what's called an \"interaction\" feature. It is large when *both* of them are large.\n",
    "* Taking the log of squarefeet has the effect of bringing large values closer together and spreading out small values.\n",
    "* Adding latitude to longitude is totally non-sensical but we will do it anyway (you'll see why)"
   ]
  },
  {
   "cell_type": "markdown",
   "metadata": {},
   "source": [
    "## Learning Multiple Models"
   ]
  },
  {
   "cell_type": "markdown",
   "metadata": {},
   "source": [
    "Now we will learn the weights for five (nested) models for predicting house prices. The first model will have the fewest features, the second model will add more features and so on:"
   ]
  },
  {
   "cell_type": "code",
   "execution_count": 37,
   "metadata": {
    "collapsed": true
   },
   "outputs": [],
   "source": [
    "model_1_features = ['sqft_living', 'bedrooms', 'bathrooms', 'lat', 'long', 'sqft_lot', 'floors']\n",
    "model_2_features = model_1_features + ['log_sqft_living', 'bedrooms_squared', 'bed_bath_rooms']\n",
    "model_3_features = model_2_features + ['lat_plus_long']\n",
    "model_4_features = model_3_features + ['bedrooms_4', 'bathrooms_7']\n",
    "model_5_features = model_4_features + ['size_3']"
   ]
  },
  {
   "cell_type": "markdown",
   "metadata": {},
   "source": [
    "Now that we have the features, we learn the weights for the five different models for predicting target = 'price' using and look at the value of the weights/coefficients:"
   ]
  },
  {
   "cell_type": "code",
   "execution_count": 38,
   "metadata": {},
   "outputs": [
    {
     "data": {
      "text/plain": [
       "LinearRegression(copy_X=True, fit_intercept=True, n_jobs=1, normalize=False)"
      ]
     },
     "execution_count": 38,
     "metadata": {},
     "output_type": "execute_result"
    }
   ],
   "source": [
    "model_1 = linear_model.LinearRegression()\n",
    "model_1.fit(sales[model_1_features], y)"
   ]
  },
  {
   "cell_type": "code",
   "execution_count": 39,
   "metadata": {},
   "outputs": [
    {
     "data": {
      "text/plain": [
       "LinearRegression(copy_X=True, fit_intercept=True, n_jobs=1, normalize=False)"
      ]
     },
     "execution_count": 39,
     "metadata": {},
     "output_type": "execute_result"
    }
   ],
   "source": [
    "model_2 = linear_model.LinearRegression()\n",
    "model_2.fit(sales[model_2_features], y)"
   ]
  },
  {
   "cell_type": "code",
   "execution_count": 40,
   "metadata": {},
   "outputs": [
    {
     "data": {
      "text/plain": [
       "LinearRegression(copy_X=True, fit_intercept=True, n_jobs=1, normalize=False)"
      ]
     },
     "execution_count": 40,
     "metadata": {},
     "output_type": "execute_result"
    }
   ],
   "source": [
    "model_3 = linear_model.LinearRegression()\n",
    "model_3.fit(sales[model_3_features], y)"
   ]
  },
  {
   "cell_type": "code",
   "execution_count": 41,
   "metadata": {},
   "outputs": [
    {
     "data": {
      "text/plain": [
       "LinearRegression(copy_X=True, fit_intercept=True, n_jobs=1, normalize=False)"
      ]
     },
     "execution_count": 41,
     "metadata": {},
     "output_type": "execute_result"
    }
   ],
   "source": [
    "model_4 = linear_model.LinearRegression()\n",
    "model_4.fit(sales[model_4_features], y)"
   ]
  },
  {
   "cell_type": "code",
   "execution_count": 42,
   "metadata": {},
   "outputs": [
    {
     "data": {
      "text/plain": [
       "LinearRegression(copy_X=True, fit_intercept=True, n_jobs=1, normalize=False)"
      ]
     },
     "execution_count": 42,
     "metadata": {},
     "output_type": "execute_result"
    }
   ],
   "source": [
    "model_5 = linear_model.LinearRegression()\n",
    "model_5.fit(sales[model_5_features], y)"
   ]
  },
  {
   "cell_type": "code",
   "execution_count": 43,
   "metadata": {},
   "outputs": [
    {
     "name": "stdout",
     "output_type": "stream",
     "text": [
      "[  3.06930393e+02  -5.37365974e+04   1.92633985e+04   6.59919715e+05\n",
      "  -3.15325117e+05   6.01533077e-02  -5.77002641e+03]\n",
      "[  5.22290856e+02  -5.83083200e+03   9.13874631e+04   6.55377075e+05\n",
      "  -2.79014318e+05  -4.38190098e-03  -1.64123192e+03  -5.43968799e+05\n",
      "   7.65579830e+02  -1.49981031e+04]\n"
     ]
    }
   ],
   "source": [
    "# You can examine/extract each model's coefficients, for example:\n",
    "print (model_1.coef_)\n",
    "print (model_2.coef_)"
   ]
  },
  {
   "cell_type": "markdown",
   "metadata": {},
   "source": [
    "Interesting: in the previous model the weight coefficient for the size lot was positive but now in the model_2 is negative.  \n",
    "This is an effect of adding the feature logging the size."
   ]
  },
  {
   "cell_type": "markdown",
   "metadata": {},
   "source": [
    "## Comparing multiple models\n",
    "\n",
    "Now that you've learned three models and extracted the model weights we want to evaluate which model is best."
   ]
  },
  {
   "cell_type": "markdown",
   "metadata": {},
   "source": [
    "We can use the loss function from earlier to compute the RSS on training data for each of the models."
   ]
  },
  {
   "cell_type": "code",
   "execution_count": 44,
   "metadata": {},
   "outputs": [
    {
     "name": "stdout",
     "output_type": "stream",
     "text": [
      "1.19260931528e+15\n",
      "1.11713142806e+15\n",
      "1.11713142806e+15\n",
      "1.1115656343e+15\n",
      "1.1091157483e+15\n"
     ]
    }
   ],
   "source": [
    "# Compute the RSS for each of the models:\n",
    "print (get_loss(model_1.predict(sales[model_1_features]), y))\n",
    "print (get_loss(model_2.predict(sales[model_2_features]), y))\n",
    "print (get_loss(model_3.predict(sales[model_3_features]), y))\n",
    "print (get_loss(model_4.predict(sales[model_4_features]), y))\n",
    "print (get_loss(model_5.predict(sales[model_5_features]), y))"
   ]
  },
  {
   "cell_type": "markdown",
   "metadata": {
    "collapsed": true
   },
   "source": [
    "model_5 has the lowest RSS on the training data.  \n",
    "The **most complex model**."
   ]
  },
  {
   "cell_type": "markdown",
   "metadata": {},
   "source": [
    "## The test error"
   ]
  },
  {
   "cell_type": "markdown",
   "metadata": {},
   "source": [
    "Training error decreases quite significantly with model complexity. This is quite intuitive, because the model was fit on the training points and then as we increase the model complexity, we are better able to fit the training data points."
   ]
  },
  {
   "cell_type": "markdown",
   "metadata": {},
   "source": [
    "A natural question is whether a training error is a good measure of predictive performance?  \n",
    "\n",
    "The issue is that the training error is overly optimistic and that's because the beta parameters were fit on the training data to minimise the residual sum of squares, which can often be related to the training error.\n",
    "So, in general, having small training error does not imply having good predictive performance.\n",
    "\n",
    "This takes us to something called test error (or out-of-sample error): we hold out some houses from the data set and we're putting these into what's called a test set.\n",
    "And when we fit our models, we just fit our models on the training data set.  \n",
    "But then when we go to assess our performance of that model we look at these test houses in the test dataset and these are hopefully serving as a proxy of everything out there in the world.\n",
    "\n",
    "Bottom line, the test error is a (noisy) approximation of the true error."
   ]
  },
  {
   "cell_type": "markdown",
   "metadata": {},
   "source": [
    "## Split data into training and testing.\n",
    "Let's see how can be applied to our example.  \n",
    "First we split the data into a training set and a testing set using a function from *sklearn*, the *train_test_split()*.\n",
    "We use a seed for reproducibility.   "
   ]
  },
  {
   "cell_type": "code",
   "execution_count": 45,
   "metadata": {
    "collapsed": true
   },
   "outputs": [],
   "source": [
    "from sklearn.model_selection import train_test_split\n",
    "train_data,test_data = train_test_split(sales, test_size=0.3, random_state=999)"
   ]
  },
  {
   "cell_type": "code",
   "execution_count": 46,
   "metadata": {},
   "outputs": [
    {
     "data": {
      "text/html": [
       "<div>\n",
       "<table border=\"1\" class=\"dataframe\">\n",
       "  <thead>\n",
       "    <tr style=\"text-align: right;\">\n",
       "      <th></th>\n",
       "      <th>id</th>\n",
       "      <th>date</th>\n",
       "      <th>price</th>\n",
       "      <th>bedrooms</th>\n",
       "      <th>bathrooms</th>\n",
       "      <th>sqft_living</th>\n",
       "      <th>sqft_lot</th>\n",
       "      <th>floors</th>\n",
       "      <th>waterfront</th>\n",
       "      <th>view</th>\n",
       "      <th>...</th>\n",
       "      <th>long</th>\n",
       "      <th>sqft_living15</th>\n",
       "      <th>sqft_lot15</th>\n",
       "      <th>bedrooms_squared</th>\n",
       "      <th>bed_bath_rooms</th>\n",
       "      <th>log_sqft_living</th>\n",
       "      <th>lat_plus_long</th>\n",
       "      <th>bedrooms_4</th>\n",
       "      <th>bathrooms_7</th>\n",
       "      <th>size_3</th>\n",
       "    </tr>\n",
       "  </thead>\n",
       "  <tbody>\n",
       "    <tr>\n",
       "      <th>9318</th>\n",
       "      <td>4420600015</td>\n",
       "      <td>20141006T000000</td>\n",
       "      <td>571500.0</td>\n",
       "      <td>4.0</td>\n",
       "      <td>2.25</td>\n",
       "      <td>2810.0</td>\n",
       "      <td>25990</td>\n",
       "      <td>2</td>\n",
       "      <td>0</td>\n",
       "      <td>0</td>\n",
       "      <td>...</td>\n",
       "      <td>-122.293</td>\n",
       "      <td>2020.0</td>\n",
       "      <td>16140.0</td>\n",
       "      <td>16.0</td>\n",
       "      <td>9.0</td>\n",
       "      <td>7.940940</td>\n",
       "      <td>-74.9937</td>\n",
       "      <td>256.0</td>\n",
       "      <td>291.929260</td>\n",
       "      <td>2.218804e+10</td>\n",
       "    </tr>\n",
       "    <tr>\n",
       "      <th>15904</th>\n",
       "      <td>8691390980</td>\n",
       "      <td>20140902T000000</td>\n",
       "      <td>728000.0</td>\n",
       "      <td>4.0</td>\n",
       "      <td>2.50</td>\n",
       "      <td>3290.0</td>\n",
       "      <td>5951</td>\n",
       "      <td>2</td>\n",
       "      <td>0</td>\n",
       "      <td>0</td>\n",
       "      <td>...</td>\n",
       "      <td>-121.976</td>\n",
       "      <td>3240.0</td>\n",
       "      <td>6159.0</td>\n",
       "      <td>16.0</td>\n",
       "      <td>10.0</td>\n",
       "      <td>8.098643</td>\n",
       "      <td>-74.3761</td>\n",
       "      <td>256.0</td>\n",
       "      <td>610.351562</td>\n",
       "      <td>3.561129e+10</td>\n",
       "    </tr>\n",
       "    <tr>\n",
       "      <th>7599</th>\n",
       "      <td>3326059191</td>\n",
       "      <td>20140616T000000</td>\n",
       "      <td>410000.0</td>\n",
       "      <td>4.0</td>\n",
       "      <td>2.00</td>\n",
       "      <td>1580.0</td>\n",
       "      <td>9581</td>\n",
       "      <td>1</td>\n",
       "      <td>0</td>\n",
       "      <td>0</td>\n",
       "      <td>...</td>\n",
       "      <td>-122.165</td>\n",
       "      <td>1580.0</td>\n",
       "      <td>10552.0</td>\n",
       "      <td>16.0</td>\n",
       "      <td>8.0</td>\n",
       "      <td>7.365180</td>\n",
       "      <td>-74.4730</td>\n",
       "      <td>256.0</td>\n",
       "      <td>128.000000</td>\n",
       "      <td>3.944312e+09</td>\n",
       "    </tr>\n",
       "    <tr>\n",
       "      <th>14893</th>\n",
       "      <td>6817810190</td>\n",
       "      <td>20140701T000000</td>\n",
       "      <td>401000.0</td>\n",
       "      <td>3.0</td>\n",
       "      <td>2.00</td>\n",
       "      <td>1240.0</td>\n",
       "      <td>11172</td>\n",
       "      <td>1</td>\n",
       "      <td>0</td>\n",
       "      <td>0</td>\n",
       "      <td>...</td>\n",
       "      <td>-122.037</td>\n",
       "      <td>1330.0</td>\n",
       "      <td>14102.0</td>\n",
       "      <td>9.0</td>\n",
       "      <td>6.0</td>\n",
       "      <td>7.122867</td>\n",
       "      <td>-74.4006</td>\n",
       "      <td>81.0</td>\n",
       "      <td>128.000000</td>\n",
       "      <td>1.906624e+09</td>\n",
       "    </tr>\n",
       "    <tr>\n",
       "      <th>20508</th>\n",
       "      <td>7625703357</td>\n",
       "      <td>20150227T000000</td>\n",
       "      <td>394950.0</td>\n",
       "      <td>2.0</td>\n",
       "      <td>2.25</td>\n",
       "      <td>1300.0</td>\n",
       "      <td>2104</td>\n",
       "      <td>2</td>\n",
       "      <td>0</td>\n",
       "      <td>0</td>\n",
       "      <td>...</td>\n",
       "      <td>-122.388</td>\n",
       "      <td>1430.0</td>\n",
       "      <td>1850.0</td>\n",
       "      <td>4.0</td>\n",
       "      <td>4.5</td>\n",
       "      <td>7.170120</td>\n",
       "      <td>-74.8403</td>\n",
       "      <td>16.0</td>\n",
       "      <td>291.929260</td>\n",
       "      <td>2.197000e+09</td>\n",
       "    </tr>\n",
       "  </tbody>\n",
       "</table>\n",
       "<p>5 rows × 28 columns</p>\n",
       "</div>"
      ],
      "text/plain": [
       "               id             date     price  bedrooms  bathrooms  \\\n",
       "9318   4420600015  20141006T000000  571500.0       4.0       2.25   \n",
       "15904  8691390980  20140902T000000  728000.0       4.0       2.50   \n",
       "7599   3326059191  20140616T000000  410000.0       4.0       2.00   \n",
       "14893  6817810190  20140701T000000  401000.0       3.0       2.00   \n",
       "20508  7625703357  20150227T000000  394950.0       2.0       2.25   \n",
       "\n",
       "       sqft_living  sqft_lot floors  waterfront  view      ...          long  \\\n",
       "9318        2810.0     25990      2           0     0      ...      -122.293   \n",
       "15904       3290.0      5951      2           0     0      ...      -121.976   \n",
       "7599        1580.0      9581      1           0     0      ...      -122.165   \n",
       "14893       1240.0     11172      1           0     0      ...      -122.037   \n",
       "20508       1300.0      2104      2           0     0      ...      -122.388   \n",
       "\n",
       "       sqft_living15  sqft_lot15  bedrooms_squared  bed_bath_rooms  \\\n",
       "9318          2020.0     16140.0              16.0             9.0   \n",
       "15904         3240.0      6159.0              16.0            10.0   \n",
       "7599          1580.0     10552.0              16.0             8.0   \n",
       "14893         1330.0     14102.0               9.0             6.0   \n",
       "20508         1430.0      1850.0               4.0             4.5   \n",
       "\n",
       "       log_sqft_living lat_plus_long  bedrooms_4  bathrooms_7        size_3  \n",
       "9318          7.940940      -74.9937       256.0   291.929260  2.218804e+10  \n",
       "15904         8.098643      -74.3761       256.0   610.351562  3.561129e+10  \n",
       "7599          7.365180      -74.4730       256.0   128.000000  3.944312e+09  \n",
       "14893         7.122867      -74.4006        81.0   128.000000  1.906624e+09  \n",
       "20508         7.170120      -74.8403        16.0   291.929260  2.197000e+09  \n",
       "\n",
       "[5 rows x 28 columns]"
      ]
     },
     "execution_count": 46,
     "metadata": {},
     "output_type": "execute_result"
    }
   ],
   "source": [
    "train_data.head()"
   ]
  },
  {
   "cell_type": "code",
   "execution_count": 47,
   "metadata": {},
   "outputs": [
    {
     "data": {
      "text/plain": [
       "(15129, 28)"
      ]
     },
     "execution_count": 47,
     "metadata": {},
     "output_type": "execute_result"
    }
   ],
   "source": [
    "train_data.shape"
   ]
  },
  {
   "cell_type": "code",
   "execution_count": 48,
   "metadata": {},
   "outputs": [
    {
     "data": {
      "text/html": [
       "<div>\n",
       "<table border=\"1\" class=\"dataframe\">\n",
       "  <thead>\n",
       "    <tr style=\"text-align: right;\">\n",
       "      <th></th>\n",
       "      <th>id</th>\n",
       "      <th>date</th>\n",
       "      <th>price</th>\n",
       "      <th>bedrooms</th>\n",
       "      <th>bathrooms</th>\n",
       "      <th>sqft_living</th>\n",
       "      <th>sqft_lot</th>\n",
       "      <th>floors</th>\n",
       "      <th>waterfront</th>\n",
       "      <th>view</th>\n",
       "      <th>...</th>\n",
       "      <th>long</th>\n",
       "      <th>sqft_living15</th>\n",
       "      <th>sqft_lot15</th>\n",
       "      <th>bedrooms_squared</th>\n",
       "      <th>bed_bath_rooms</th>\n",
       "      <th>log_sqft_living</th>\n",
       "      <th>lat_plus_long</th>\n",
       "      <th>bedrooms_4</th>\n",
       "      <th>bathrooms_7</th>\n",
       "      <th>size_3</th>\n",
       "    </tr>\n",
       "  </thead>\n",
       "  <tbody>\n",
       "    <tr>\n",
       "      <th>10033</th>\n",
       "      <td>4440400125</td>\n",
       "      <td>20140508T000000</td>\n",
       "      <td>228000.0</td>\n",
       "      <td>4.0</td>\n",
       "      <td>1.75</td>\n",
       "      <td>2000.0</td>\n",
       "      <td>6120</td>\n",
       "      <td>1</td>\n",
       "      <td>0</td>\n",
       "      <td>0</td>\n",
       "      <td>...</td>\n",
       "      <td>-122.258</td>\n",
       "      <td>1880.0</td>\n",
       "      <td>6120.0</td>\n",
       "      <td>16.0</td>\n",
       "      <td>7.00</td>\n",
       "      <td>7.600902</td>\n",
       "      <td>-74.7545</td>\n",
       "      <td>256.0</td>\n",
       "      <td>50.265076</td>\n",
       "      <td>8.000000e+09</td>\n",
       "    </tr>\n",
       "    <tr>\n",
       "      <th>20870</th>\n",
       "      <td>3575305485</td>\n",
       "      <td>20140829T000000</td>\n",
       "      <td>409000.0</td>\n",
       "      <td>3.0</td>\n",
       "      <td>2.50</td>\n",
       "      <td>1890.0</td>\n",
       "      <td>6500</td>\n",
       "      <td>2</td>\n",
       "      <td>0</td>\n",
       "      <td>0</td>\n",
       "      <td>...</td>\n",
       "      <td>-122.058</td>\n",
       "      <td>2340.0</td>\n",
       "      <td>7500.0</td>\n",
       "      <td>9.0</td>\n",
       "      <td>7.50</td>\n",
       "      <td>7.544332</td>\n",
       "      <td>-74.4355</td>\n",
       "      <td>81.0</td>\n",
       "      <td>610.351562</td>\n",
       "      <td>6.751269e+09</td>\n",
       "    </tr>\n",
       "    <tr>\n",
       "      <th>21323</th>\n",
       "      <td>9402800005</td>\n",
       "      <td>20141028T000000</td>\n",
       "      <td>1500000.0</td>\n",
       "      <td>3.0</td>\n",
       "      <td>3.50</td>\n",
       "      <td>3530.0</td>\n",
       "      <td>3610</td>\n",
       "      <td>2</td>\n",
       "      <td>0</td>\n",
       "      <td>0</td>\n",
       "      <td>...</td>\n",
       "      <td>-122.339</td>\n",
       "      <td>1780.0</td>\n",
       "      <td>3610.0</td>\n",
       "      <td>9.0</td>\n",
       "      <td>10.50</td>\n",
       "      <td>8.169053</td>\n",
       "      <td>-74.6533</td>\n",
       "      <td>81.0</td>\n",
       "      <td>6433.929688</td>\n",
       "      <td>4.398698e+10</td>\n",
       "    </tr>\n",
       "    <tr>\n",
       "      <th>12147</th>\n",
       "      <td>9407001600</td>\n",
       "      <td>20150423T000000</td>\n",
       "      <td>305000.0</td>\n",
       "      <td>3.0</td>\n",
       "      <td>1.75</td>\n",
       "      <td>1660.0</td>\n",
       "      <td>11500</td>\n",
       "      <td>1</td>\n",
       "      <td>0</td>\n",
       "      <td>0</td>\n",
       "      <td>...</td>\n",
       "      <td>-121.774</td>\n",
       "      <td>1250.0</td>\n",
       "      <td>11000.0</td>\n",
       "      <td>9.0</td>\n",
       "      <td>5.25</td>\n",
       "      <td>7.414573</td>\n",
       "      <td>-74.3267</td>\n",
       "      <td>81.0</td>\n",
       "      <td>50.265076</td>\n",
       "      <td>4.574296e+09</td>\n",
       "    </tr>\n",
       "    <tr>\n",
       "      <th>15145</th>\n",
       "      <td>8712100020</td>\n",
       "      <td>20150127T000000</td>\n",
       "      <td>600000.0</td>\n",
       "      <td>2.0</td>\n",
       "      <td>1.00</td>\n",
       "      <td>1290.0</td>\n",
       "      <td>4636</td>\n",
       "      <td>1</td>\n",
       "      <td>0</td>\n",
       "      <td>0</td>\n",
       "      <td>...</td>\n",
       "      <td>-122.301</td>\n",
       "      <td>1940.0</td>\n",
       "      <td>4635.0</td>\n",
       "      <td>4.0</td>\n",
       "      <td>2.00</td>\n",
       "      <td>7.162397</td>\n",
       "      <td>-74.6617</td>\n",
       "      <td>16.0</td>\n",
       "      <td>1.000000</td>\n",
       "      <td>2.146689e+09</td>\n",
       "    </tr>\n",
       "  </tbody>\n",
       "</table>\n",
       "<p>5 rows × 28 columns</p>\n",
       "</div>"
      ],
      "text/plain": [
       "               id             date      price  bedrooms  bathrooms  \\\n",
       "10033  4440400125  20140508T000000   228000.0       4.0       1.75   \n",
       "20870  3575305485  20140829T000000   409000.0       3.0       2.50   \n",
       "21323  9402800005  20141028T000000  1500000.0       3.0       3.50   \n",
       "12147  9407001600  20150423T000000   305000.0       3.0       1.75   \n",
       "15145  8712100020  20150127T000000   600000.0       2.0       1.00   \n",
       "\n",
       "       sqft_living  sqft_lot floors  waterfront  view      ...          long  \\\n",
       "10033       2000.0      6120      1           0     0      ...      -122.258   \n",
       "20870       1890.0      6500      2           0     0      ...      -122.058   \n",
       "21323       3530.0      3610      2           0     0      ...      -122.339   \n",
       "12147       1660.0     11500      1           0     0      ...      -121.774   \n",
       "15145       1290.0      4636      1           0     0      ...      -122.301   \n",
       "\n",
       "       sqft_living15  sqft_lot15  bedrooms_squared  bed_bath_rooms  \\\n",
       "10033         1880.0      6120.0              16.0            7.00   \n",
       "20870         2340.0      7500.0               9.0            7.50   \n",
       "21323         1780.0      3610.0               9.0           10.50   \n",
       "12147         1250.0     11000.0               9.0            5.25   \n",
       "15145         1940.0      4635.0               4.0            2.00   \n",
       "\n",
       "       log_sqft_living lat_plus_long  bedrooms_4  bathrooms_7        size_3  \n",
       "10033         7.600902      -74.7545       256.0    50.265076  8.000000e+09  \n",
       "20870         7.544332      -74.4355        81.0   610.351562  6.751269e+09  \n",
       "21323         8.169053      -74.6533        81.0  6433.929688  4.398698e+10  \n",
       "12147         7.414573      -74.3267        81.0    50.265076  4.574296e+09  \n",
       "15145         7.162397      -74.6617        16.0     1.000000  2.146689e+09  \n",
       "\n",
       "[5 rows x 28 columns]"
      ]
     },
     "execution_count": 48,
     "metadata": {},
     "output_type": "execute_result"
    }
   ],
   "source": [
    "# test_data = pd.read_csv('kc_house_test_data.csv', dtype=dtype_dict)\n",
    "test_data.head()"
   ]
  },
  {
   "cell_type": "code",
   "execution_count": 49,
   "metadata": {},
   "outputs": [
    {
     "data": {
      "text/plain": [
       "(6484, 28)"
      ]
     },
     "execution_count": 49,
     "metadata": {},
     "output_type": "execute_result"
    }
   ],
   "source": [
    "test_data.shape"
   ]
  },
  {
   "cell_type": "markdown",
   "metadata": {},
   "source": [
    "In this case the testing set will be the 30% (therefore the training set is 70% of the original data)"
   ]
  },
  {
   "cell_type": "code",
   "execution_count": 50,
   "metadata": {
    "collapsed": true
   },
   "outputs": [],
   "source": [
    "train_y = train_data.price # extract the price column\n",
    "test_y = test_data.price"
   ]
  },
  {
   "cell_type": "markdown",
   "metadata": {},
   "source": [
    "Retrain the models on training data only:"
   ]
  },
  {
   "cell_type": "code",
   "execution_count": 51,
   "metadata": {},
   "outputs": [
    {
     "data": {
      "text/plain": [
       "LinearRegression(copy_X=True, fit_intercept=True, n_jobs=1, normalize=False)"
      ]
     },
     "execution_count": 51,
     "metadata": {},
     "output_type": "execute_result"
    }
   ],
   "source": [
    "model_1.fit(train_data[model_1_features], train_y)"
   ]
  },
  {
   "cell_type": "code",
   "execution_count": 52,
   "metadata": {},
   "outputs": [
    {
     "data": {
      "text/plain": [
       "LinearRegression(copy_X=True, fit_intercept=True, n_jobs=1, normalize=False)"
      ]
     },
     "execution_count": 52,
     "metadata": {},
     "output_type": "execute_result"
    }
   ],
   "source": [
    "model_2.fit(train_data[model_2_features], train_y)"
   ]
  },
  {
   "cell_type": "code",
   "execution_count": 53,
   "metadata": {},
   "outputs": [
    {
     "data": {
      "text/plain": [
       "LinearRegression(copy_X=True, fit_intercept=True, n_jobs=1, normalize=False)"
      ]
     },
     "execution_count": 53,
     "metadata": {},
     "output_type": "execute_result"
    }
   ],
   "source": [
    "model_3.fit(train_data[model_3_features], train_y)"
   ]
  },
  {
   "cell_type": "code",
   "execution_count": 54,
   "metadata": {},
   "outputs": [
    {
     "data": {
      "text/plain": [
       "LinearRegression(copy_X=True, fit_intercept=True, n_jobs=1, normalize=False)"
      ]
     },
     "execution_count": 54,
     "metadata": {},
     "output_type": "execute_result"
    }
   ],
   "source": [
    "model_4.fit(train_data[model_4_features], train_y)"
   ]
  },
  {
   "cell_type": "code",
   "execution_count": 55,
   "metadata": {},
   "outputs": [
    {
     "data": {
      "text/plain": [
       "LinearRegression(copy_X=True, fit_intercept=True, n_jobs=1, normalize=False)"
      ]
     },
     "execution_count": 55,
     "metadata": {},
     "output_type": "execute_result"
    }
   ],
   "source": [
    "model_5.fit(train_data[model_5_features], train_y)"
   ]
  },
  {
   "cell_type": "code",
   "execution_count": 56,
   "metadata": {},
   "outputs": [
    {
     "name": "stdout",
     "output_type": "stream",
     "text": [
      "8.60021288255e+14\n",
      "7.89347967237e+14\n",
      "7.89347967237e+14\n",
      "7.73197162481e+14\n",
      "7.50061625701e+14\n"
     ]
    }
   ],
   "source": [
    "# Compute the RSS on TRAINING data for each of the models\n",
    "print (get_loss(model_1.predict(train_data[model_1_features]), train_y))\n",
    "print (get_loss(model_2.predict(train_data[model_2_features]), train_y))\n",
    "print (get_loss(model_3.predict(train_data[model_3_features]), train_y))\n",
    "print (get_loss(model_4.predict(train_data[model_4_features]), train_y))\n",
    "print (get_loss(model_5.predict(train_data[model_5_features]), train_y))"
   ]
  },
  {
   "cell_type": "markdown",
   "metadata": {},
   "source": [
    "Now compute the RSS on TEST data for each of the models."
   ]
  },
  {
   "cell_type": "code",
   "execution_count": 57,
   "metadata": {},
   "outputs": [
    {
     "name": "stdout",
     "output_type": "stream",
     "text": [
      "3.33694184144e+14\n",
      "3.31182631706e+14\n",
      "3.31182631706e+14\n",
      "3.49204952637e+14\n",
      "4.05978695042e+14\n"
     ]
    }
   ],
   "source": [
    "# Compute the RSS on TESTING data for each of the three models and record the values:\n",
    "print (get_loss(model_1.predict(test_data[model_1_features]), test_y))\n",
    "print (get_loss(model_2.predict(test_data[model_2_features]), test_y))\n",
    "print (get_loss(model_3.predict(test_data[model_3_features]), test_y))\n",
    "print (get_loss(model_4.predict(test_data[model_4_features]), test_y))\n",
    "print (get_loss(model_5.predict(test_data[model_5_features]), test_y))"
   ]
  },
  {
   "cell_type": "markdown",
   "metadata": {
    "collapsed": true
   },
   "source": [
    "The most complex model has the lowest error on the training data, but since that model has a non-sensical feature, it performs less well on the test data."
   ]
  },
  {
   "cell_type": "markdown",
   "metadata": {
    "collapsed": true
   },
   "source": [
    "![Training error vs. model complexity](../images/models.png)"
   ]
  },
  {
   "cell_type": "markdown",
   "metadata": {},
   "source": [
    "## Overfitting"
   ]
  },
  {
   "cell_type": "markdown",
   "metadata": {},
   "source": [
    "When you have too many features in a model and the learned hypothesis fit the training set very well but fail to generalise to new data (predict prices on new houses) then this is called the overfitting problem.\n",
    "\n",
    "Formally, a model, let's say Model1 with some parameters beta_1, overfits if exists another model - let's call it Model2, with estimated parameters beta_2 such that the training error of Model2 is less than the training error of Model1 but on the other hand, the true general error of Model2 is greater than the true error of Model1."
   ]
  },
  {
   "cell_type": "markdown",
   "metadata": {},
   "source": [
    "![overfitting](../images/modelsErrors.png)"
   ]
  },
  {
   "cell_type": "markdown",
   "metadata": {},
   "source": [
    "From the picture above you can see that the models prone to overfit are the ones\n",
    "that have small training error and high complexity.\n",
    "Therefore one simple way to avoid overfitting is to prefer simpler models and avoid complex models with many features."
   ]
  },
  {
   "cell_type": "code",
   "execution_count": null,
   "metadata": {
    "collapsed": true
   },
   "outputs": [],
   "source": []
  }
 ],
 "metadata": {
  "anaconda-cloud": {},
  "kernelspec": {
   "display_name": "Python [default]",
   "language": "python",
   "name": "python3"
  },
  "language_info": {
   "codemirror_mode": {
    "name": "ipython",
    "version": 3
   },
   "file_extension": ".py",
   "mimetype": "text/x-python",
   "name": "python",
   "nbconvert_exporter": "python",
   "pygments_lexer": "ipython3",
   "version": "3.5.2"
  }
 },
 "nbformat": 4,
 "nbformat_minor": 1
}
