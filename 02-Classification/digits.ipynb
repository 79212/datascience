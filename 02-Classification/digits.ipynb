{
 "cells": [
  {
   "cell_type": "markdown",
   "metadata": {},
   "source": [
    "# Digits\n",
    "\n",
    "This notebook one-vs-all logistic regression and neural networks to recognize hand-written digits. "
   ]
  },
  {
   "cell_type": "markdown",
   "metadata": {
    "collapsed": true
   },
   "source": [
    "## 1 - Overview of the data set ##\n",
    "\n",
    "The dataset contains 5000 training examples of handwritten digits. This is a subset of the MNIST handwritten digit dataset (http://yann.lecun.com/exdb/mnist/).\n",
    "\n",
    "Each training example is a 20 pixel by 20 pixel grayscale image of the digit. Each pixel is represented by a floating point number indicating the grayscale intensity at that location. The 20 by 20 grid of pixels is “unrolled” into a 400-dimensional vector. Each of these training examples becomes a single row in our data matrix X. This gives us a 5000 by 400 matrix X where every row is a training example for a handwritten digit image.\n",
    "\n",
    "The original dataset has its own format and you need to write your own program to read it but this dataset has already been converted into the Matlab format for Andrew Ng's wonderful course of Machine Learning at Stanford.\n",
    "\n",
    "Let's get more familiar with the dataset."
   ]
  },
  {
   "cell_type": "code",
   "execution_count": 2,
   "metadata": {},
   "outputs": [
    {
     "data": {
      "text/plain": [
       "dict_keys(['X', '__header__', 'y', '__version__', '__globals__'])"
      ]
     },
     "execution_count": 2,
     "metadata": {},
     "output_type": "execute_result"
    }
   ],
   "source": [
    "from scipy.io import loadmat\n",
    "\n",
    "dataset = loadmat('../datasets/mnist-data.mat') # comes as dictionary\n",
    "dataset.keys()"
   ]
  },
  {
   "cell_type": "markdown",
   "metadata": {},
   "source": [
    "### Visualise the data"
   ]
  },
  {
   "cell_type": "markdown",
   "metadata": {},
   "source": [
    "Each line of X is an array representing an image. You can visualize an example by running the following code. Feel free also to change the `indexImage` value and re-run to see other images. "
   ]
  },
  {
   "cell_type": "code",
   "execution_count": 3,
   "metadata": {
    "collapsed": true
   },
   "outputs": [],
   "source": [
    "import matplotlib.pyplot as plt\n",
    "%matplotlib inline"
   ]
  },
  {
   "cell_type": "code",
   "execution_count": 4,
   "metadata": {
    "collapsed": true
   },
   "outputs": [],
   "source": [
    "import numpy as np\n",
    "    # Example of a picture\n",
    "indexImage = 4000  # try any index between 0 and 4999. They are sorted, from 1 to 10 (=0)\n",
    "renderImage = np.reshape(dataset['X'][indexImage], (20,20))\n",
    "labelImage = dataset['y'][indexImage]"
   ]
  },
  {
   "cell_type": "code",
   "execution_count": 5,
   "metadata": {
    "scrolled": false
   },
   "outputs": [
    {
     "name": "stdout",
     "output_type": "stream",
     "text": [
      "Label: this is a  [8]\n"
     ]
    },
    {
     "data": {
      "image/png": "[encoded data removed]",
      "text/plain": [
       "<matplotlib.figure.Figure at 0x1154608d0>"
      ]
     },
     "metadata": {},
     "output_type": "display_data"
    }
   ],
   "source": [
    "plt.imshow(renderImage, cmap='gray')\n",
    "print (\"Label: this is a \", labelImage)"
   ]
  },
  {
   "cell_type": "markdown",
   "metadata": {},
   "source": [
    "## 2 - Data preprocessing"
   ]
  },
  {
   "cell_type": "markdown",
   "metadata": {},
   "source": [
    "**Dataset pre-processing:**\n",
    "\n",
    "* Figure out the dimensions and shapes of the problem \n",
    "* Split the dataset into training a test subsets\n",
    "* \"Standardise\" the data"
   ]
  },
  {
   "cell_type": "code",
   "execution_count": 6,
   "metadata": {},
   "outputs": [
    {
     "data": {
      "text/plain": [
       "(5000, 400)"
      ]
     },
     "execution_count": 6,
     "metadata": {},
     "output_type": "execute_result"
    }
   ],
   "source": [
    "X = dataset['X'] # the images\n",
    "X.shape"
   ]
  },
  {
   "cell_type": "markdown",
   "metadata": {},
   "source": [
    "The second part of the training set is a 5000-dimensional vector y that contains labels for the training set. "
   ]
  },
  {
   "cell_type": "code",
   "execution_count": 7,
   "metadata": {},
   "outputs": [
    {
     "data": {
      "text/plain": [
       "(5000, 1)"
      ]
     },
     "execution_count": 7,
     "metadata": {},
     "output_type": "execute_result"
    }
   ],
   "source": [
    "y = dataset['y'] # the labels\n",
    "y.shape"
   ]
  },
  {
   "cell_type": "code",
   "execution_count": 8,
   "metadata": {},
   "outputs": [
    {
     "data": {
      "text/plain": [
       "array([10], dtype=uint8)"
      ]
     },
     "execution_count": 8,
     "metadata": {},
     "output_type": "execute_result"
    }
   ],
   "source": [
    "y[499]"
   ]
  },
  {
   "cell_type": "markdown",
   "metadata": {},
   "source": [
    "One problem: The label representing the digit 0 (zero) is coded as ten (10). Change this."
   ]
  },
  {
   "cell_type": "code",
   "execution_count": 9,
   "metadata": {},
   "outputs": [
    {
     "data": {
      "text/plain": [
       "(5000, 1)"
      ]
     },
     "execution_count": 9,
     "metadata": {},
     "output_type": "execute_result"
    }
   ],
   "source": [
    "list_y = [0 if i == 10 else i for i in y] # apply to each item in y\n",
    "y = np.asarray(list_y)\n",
    "y = y.reshape(-1,1)\n",
    "y.shape"
   ]
  },
  {
   "cell_type": "code",
   "execution_count": 10,
   "metadata": {},
   "outputs": [
    {
     "data": {
      "text/plain": [
       "array([[0],\n",
       "       [0],\n",
       "       [0],\n",
       "       [0],\n",
       "       [0],\n",
       "       [0],\n",
       "       [0],\n",
       "       [0],\n",
       "       [0],\n",
       "       [0]])"
      ]
     },
     "execution_count": 10,
     "metadata": {},
     "output_type": "execute_result"
    }
   ],
   "source": [
    "y[0:10]  # verify that the label is now zero"
   ]
  },
  {
   "cell_type": "markdown",
   "metadata": {},
   "source": [
    "### One hot encoding\n",
    "\n",
    "Another problem: the original labels (in the variable y) are a number between 0, 1, 2, ..., 9.  \n",
    "For the purpose of training a neural network, we need to recode the labels as vectors containing only binary values 0 or 1. "
   ]
  },
  {
   "cell_type": "code",
   "execution_count": 11,
   "metadata": {
    "collapsed": true
   },
   "outputs": [],
   "source": [
    "n_classes = 10 # 10 digits = 10 classes/labels"
   ]
  },
  {
   "cell_type": "code",
   "execution_count": 12,
   "metadata": {},
   "outputs": [
    {
     "data": {
      "text/plain": [
       "(5000, 10)"
      ]
     },
     "execution_count": 12,
     "metadata": {},
     "output_type": "execute_result"
    }
   ],
   "source": [
    "# np.eye(n) creates an identity matrix of shape (n,n)\n",
    "OHE_y = np.eye(n_classes)[y.reshape(-1)]\n",
    "OHE_y.shape"
   ]
  },
  {
   "cell_type": "code",
   "execution_count": 13,
   "metadata": {},
   "outputs": [
    {
     "data": {
      "text/plain": [
       "array([ 0.,  0.,  1.,  0.,  0.,  0.,  0.,  0.,  0.,  0.])"
      ]
     },
     "execution_count": 13,
     "metadata": {},
     "output_type": "execute_result"
    }
   ],
   "source": [
    "OHE_y[1000] # this is the new encoding for e.g. label = 2"
   ]
  },
  {
   "cell_type": "markdown",
   "metadata": {},
   "source": [
    "### Split into train and test sets"
   ]
  },
  {
   "cell_type": "markdown",
   "metadata": {},
   "source": [
    "Split into 20% of test and 80% of train sets"
   ]
  },
  {
   "cell_type": "code",
   "execution_count": 14,
   "metadata": {
    "collapsed": true
   },
   "outputs": [],
   "source": [
    "from sklearn.model_selection import train_test_split\n",
    "X_train, X_test, y_train, y_test = train_test_split(X, OHE_y, test_size=0.2, random_state=7)"
   ]
  },
  {
   "cell_type": "code",
   "execution_count": 15,
   "metadata": {
    "collapsed": true
   },
   "outputs": [],
   "source": [
    "input_layer_size  = X.shape[1]  \n",
    "num_px = np.sqrt(input_layer_size) # 400 = 20x20 Input Images of Digits\n",
    "n_y = y_train.shape[1]\n",
    "m_train = X_train.shape[0]\n",
    "m_test = X_test.shape[0]"
   ]
  },
  {
   "cell_type": "code",
   "execution_count": 16,
   "metadata": {
    "scrolled": true
   },
   "outputs": [
    {
     "name": "stdout",
     "output_type": "stream",
     "text": [
      "Dataset dimensions:\n",
      "Number of training examples = 4000\n",
      "Number of testing examples = 1000\n",
      "Height/Width of each image: num_px = 20.0\n",
      "Each image is of size: <20.0, 20.0>\n",
      "X train shape: (4000, 400)\n",
      "y train shape: (4000, 10)\n"
     ]
    }
   ],
   "source": [
    "print (\"Dataset dimensions:\")\n",
    "print (\"Number of training examples = \" + str(m_train))\n",
    "print (\"Number of testing examples = \" + str(m_test))\n",
    "print (\"Height/Width of each image: num_px = \" + str(num_px))\n",
    "print (\"Each image is of size: <\" + str(num_px) + \", \" + str(num_px) + \">\")\n",
    "print (\"X train shape: \" + str(X_train.shape))\n",
    "print (\"y train shape: \" + str(y_train.shape))"
   ]
  },
  {
   "cell_type": "markdown",
   "metadata": {
    "collapsed": true
   },
   "source": [
    "## 3 - Deep Neural Network for Image Classification\n",
    "\n",
    "Now we will build and apply a deep neural network to the problem."
   ]
  },
  {
   "cell_type": "markdown",
   "metadata": {},
   "source": [
    "### Building the parts of our algorithm ## \n",
    "\n",
    "The main steps for building a Neural Network are as usual:\n",
    "1. Define the model structure (such as number and size of layers) and the hyperparameters\n",
    "1. Initialize the model's weights\n",
    "1. Loop for the number of iterations:\n",
    "    - Calculate current loss (forward propagation)\n",
    "    - Calculate current gradient (backward propagation)\n",
    "    - Update parameters (gradient descent)\n",
    "1. Use the trained weights to predict the labels"
   ]
  },
  {
   "cell_type": "markdown",
   "metadata": {},
   "source": [
    "### Defining the neural network structure"
   ]
  },
  {
   "cell_type": "raw",
   "metadata": {},
   "source": [
    "Our neural network has 3 layers – an input layer, a hidden layer and an output layer.  \n",
    "Recall that our inputs are pixel values of digit images. Since the images are of size 20×20, this gives us 400 input layer units (excluding the extra bias unit which always outputs +1).  \n",
    "There are 25 units in the second layer and 10 output units (corresponding to the 10 digit classes).  "
   ]
  },
  {
   "cell_type": "code",
   "execution_count": 17,
   "metadata": {
    "collapsed": true
   },
   "outputs": [],
   "source": [
    "### CONSTANTS DEFINING THE MODEL ####\n",
    "    # we define a neural network with total 3 layers, x, y and 1 hidden:\n",
    "n_h = 25\n",
    "nn_layers = [input_layer_size, n_h, n_y]  # length is 3 (layers)"
   ]
  },
  {
   "cell_type": "markdown",
   "metadata": {},
   "source": [
    "### Build the 3-layer neural network\n",
    "\n",
    "We will re-use all the helper functions defined previously to build the neural network, such as the linear forward and the backward propagation.  \n",
    "Please refer to the Python file _nn_helpers.py_ for the details."
   ]
  },
  {
   "cell_type": "code",
   "execution_count": 18,
   "metadata": {
    "collapsed": true
   },
   "outputs": [],
   "source": [
    "from nn_helpers import *"
   ]
  },
  {
   "cell_type": "code",
   "execution_count": 19,
   "metadata": {
    "collapsed": true
   },
   "outputs": [],
   "source": [
    "# automatically reload the imported module in case of changes\n",
    "%load_ext autoreload\n",
    "%autoreload 2"
   ]
  },
  {
   "cell_type": "markdown",
   "metadata": {},
   "source": [
    "Now we can put together all the functions to build a 3-layer neural network with this structure:"
   ]
  },
  {
   "cell_type": "code",
   "execution_count": 20,
   "metadata": {},
   "outputs": [
    {
     "data": {
      "text/plain": [
       "[400, 25, 10]"
      ]
     },
     "execution_count": 20,
     "metadata": {},
     "output_type": "execute_result"
    }
   ],
   "source": [
    "nn_layers"
   ]
  },
  {
   "cell_type": "code",
   "execution_count": 21,
   "metadata": {
    "collapsed": true
   },
   "outputs": [],
   "source": [
    "np.random.seed(1)"
   ]
  },
  {
   "cell_type": "code",
   "execution_count": 22,
   "metadata": {},
   "outputs": [
    {
     "data": {
      "text/plain": [
       "(400, 4000)"
      ]
     },
     "execution_count": 22,
     "metadata": {},
     "output_type": "execute_result"
    }
   ],
   "source": [
    "train_set_x = X_train.T\n",
    "train_set_x.shape"
   ]
  },
  {
   "cell_type": "code",
   "execution_count": 23,
   "metadata": {},
   "outputs": [
    {
     "data": {
      "text/plain": [
       "(10, 4000)"
      ]
     },
     "execution_count": 23,
     "metadata": {},
     "output_type": "execute_result"
    }
   ],
   "source": [
    "# y is the original output array, with labels\n",
    "# train_set_y is that set, one-hot-encoded\n",
    "train_set_y = y_train.T\n",
    "train_set_y.shape"
   ]
  },
  {
   "cell_type": "code",
   "execution_count": 24,
   "metadata": {
    "collapsed": true
   },
   "outputs": [],
   "source": [
    "#  FUNCTION: L_layer_model\n",
    "\n",
    "def simpleNN_model(X, Y, layers_dims, learning_rate = 0.0075, num_iterations = 3000, print_cost=False):\n",
    "    \"\"\"\n",
    "    Implements a L-layer neural network: [LINEAR->RELU]*(L-1)->LINEAR->SIGMOID.\n",
    "    \n",
    "    Arguments:\n",
    "    X -- data, numpy array of shape (number of examples, num_px * num_px)\n",
    "    Y -- true \"label\" vector (containing 0 or 1), of shape (10, number of examples)\n",
    "    layers_dims -- list containing the input size and each layer size, of length (number of layers + 1).\n",
    "    learning_rate -- learning rate of the gradient descent update rule\n",
    "    num_iterations -- number of iterations of the optimisation loop\n",
    "    print_cost -- if True, it prints the cost every 200 steps\n",
    "    \n",
    "    Returns:\n",
    "    parameters -- parameters learnt by the model. They can then be used to predict.\n",
    "    \"\"\"\n",
    "\n",
    "    costs = []      # keep track of cost\n",
    "    \n",
    "    # Parameters initialization.\n",
    "    parameters = initialise_parameters(layers_dims)\n",
    "    \n",
    "    # Loop (gradient descent)\n",
    "    for i in range(0, num_iterations):\n",
    "\n",
    "        # Forward propagation: [LINEAR -> RELU]*(L-1) -> LINEAR -> SIGMOID.\n",
    "        AL, caches = L_model_forward(X, parameters)\n",
    "        \n",
    "        # Compute cost.\n",
    "        cost = compute_cost(AL, Y)\n",
    "    \n",
    "        # Backward propagation.\n",
    "        grads = L_model_backward(AL, Y, caches)\n",
    " \n",
    "        # Update parameters.\n",
    "        parameters = update_parameters(parameters, grads, learning_rate)\n",
    "                \n",
    "        # Print the cost every 200 training example\n",
    "        if print_cost and i % 200 == 0:\n",
    "            print (\"Cost after iteration %i: %f\" %(i, cost))\n",
    "        if print_cost and i % 200 == 0:\n",
    "            costs.append(cost)\n",
    "            \n",
    "    # plot the cost\n",
    "    plt.plot(np.squeeze(costs))\n",
    "    plt.ylabel('cost')\n",
    "    plt.xlabel('iterations (per tens)')\n",
    "    plt.title(\"Learning rate =\" + str(learning_rate))\n",
    "    plt.show()\n",
    "    \n",
    "    return parameters"
   ]
  },
  {
   "cell_type": "markdown",
   "metadata": {},
   "source": [
    "We will now train the model as a 3-layer neural network.\n",
    "Run the cell below to train the model. The cost should decrease on every iteration. It may take up to 5 minutes to run 3500 iterations.\n",
    "You can click on the square (⬛) on the upper bar of the notebook to stop the cell."
   ]
  },
  {
   "cell_type": "code",
   "execution_count": 25,
   "metadata": {},
   "outputs": [
    {
     "name": "stdout",
     "output_type": "stream",
     "text": [
      "Cost after iteration 0: 7.195189\n",
      "Cost after iteration 200: 0.640068\n",
      "Cost after iteration 400: 0.498127\n",
      "Cost after iteration 600: 0.421590\n",
      "Cost after iteration 800: 0.365663\n",
      "Cost after iteration 1000: 0.321178\n",
      "Cost after iteration 1200: 0.285219\n",
      "Cost after iteration 1400: 0.255438\n",
      "Cost after iteration 1600: 0.230358\n",
      "Cost after iteration 1800: 0.208398\n",
      "Cost after iteration 2000: 0.189623\n",
      "Cost after iteration 2200: 0.173233\n",
      "Cost after iteration 2400: 0.158816\n",
      "Cost after iteration 2600: 0.145646\n",
      "Cost after iteration 2800: 0.134255\n",
      "Cost after iteration 3000: 0.123692\n",
      "Cost after iteration 3200: 0.114166\n",
      "Cost after iteration 3400: 0.104866\n"
     ]
    },
    {
     "data": {
      "image/png": "[encoded data removed]",
      "text/plain": [
       "<matplotlib.figure.Figure at 0x105f1a550>"
      ]
     },
     "metadata": {},
     "output_type": "display_data"
    }
   ],
   "source": [
    "fit_params = simpleNN_model(train_set_x, train_set_y, nn_layers, learning_rate = 0.3, num_iterations = 3500, print_cost = True)"
   ]
  },
  {
   "cell_type": "markdown",
   "metadata": {},
   "source": [
    "## 4. Results analysis\n",
    "\n",
    "Now we can check the performance of the trained network by predicting the results of the test set and comparing them with the actual labels.  \n",
    "Note that the predict() function has been adapted to cope with the multi-class labels."
   ]
  },
  {
   "cell_type": "code",
   "execution_count": 26,
   "metadata": {
    "collapsed": true
   },
   "outputs": [],
   "source": [
    "def predict(X, yOHE, parameters):\n",
    "    \"\"\"\n",
    "    This function is used to predict the results of a  L-layer neural network.\n",
    "    It also checks them against the true labels and print the accuracy\n",
    "    Arguments:\n",
    "    X -- data set of examples you would like to label\n",
    "    yOHE -- the true labels, as multi-class vectors\n",
    "    parameters -- parameters of the trained model\n",
    "    \n",
    "    Returns:\n",
    "    p -- predictions (the label) for the given dataset X \n",
    "    \"\"\"\n",
    "    \n",
    "    m = X.shape[1]\n",
    "    nLabels = yOHE.shape[1]\n",
    "    n = len(parameters) // 2 # number of layers in the neural network\n",
    "    p = np.zeros((1, m)) # the predicted output, initialised to zero\n",
    "    y = np.zeros((1, m)) # the actual output\n",
    "     \n",
    "    # Forward propagation\n",
    "    probas, caches = L_model_forward(X, parameters)\n",
    "\n",
    "    # probas is a matrix of shape [nLabels, m] (one-hot-encoded)\n",
    "    assert (probas.shape[1] == m)\n",
    "    \n",
    "    for i in range(0, m):\n",
    "            # convert probs to label predictions:\n",
    "            # just take the label with max prob\n",
    "        p[0,i] = np.argmax(probas[:,i])\n",
    "\n",
    "        # convert expected results into label: takes the value with one\n",
    "        y[0,i] = np.argmax(yOHE[:,i])\n",
    "        \n",
    "    # print results\n",
    "    print(\"Accuracy: \"  + str(np.sum((p == y)/m)))\n",
    "        \n",
    "    return p"
   ]
  },
  {
   "cell_type": "code",
   "execution_count": 27,
   "metadata": {
    "scrolled": true
   },
   "outputs": [
    {
     "name": "stdout",
     "output_type": "stream",
     "text": [
      "On the training set:\n",
      "Accuracy: 0.99425\n",
      "On the test set:\n",
      "Accuracy: 0.929\n"
     ]
    }
   ],
   "source": [
    "print (\"On the training set:\")\n",
    "predictions_train = predict(train_set_x, train_set_y, fit_params)\n",
    "print (\"On the test set:\")\n",
    "predictions_test = predict(X_test.T, y_test.T, fit_params)"
   ]
  },
  {
   "cell_type": "markdown",
   "metadata": {},
   "source": [
    "## 5 - Initializing parameters\n",
    "\n",
    "There are two types of parameters to initialize in a neural network:\n",
    "- the weight matrices $W^{[i]}$\n",
    "- the bias vectors $b^{[i]}$\n",
    "\n",
    "The weight matrix is initialised with random values while the bias vector as a vector of zeros.  \n",
    "In general, initializing all the weights to zero results in the network failing to **break symmetry**. This means that every neuron in each layer will learn the same thing and the network is no more powerful than a linear classifier such as logistic regression.  \n",
    "\n",
    "To break symmetry, we initialise the weights randomly. Following random initialisation, each neuron can then proceed to learn a different function of its inputs.  \n",
    "Of course, different initializations lead to different results and poor initialisation can slow down the optimisation algorithm.  \n",
    "\n",
    "One good practice is not to initialise to values that are too large, instead what bring good results are the so-called [Xavier](http://proceedings.mlr.press/v9/glorot10a/glorot10a.pdf) or the [He (for ReLU activation) initialisations](https://www.cv-foundation.org/openaccess/content_iccv_2015/papers/He_Delving_Deep_into_ICCV_2015_paper.pdf). "
   ]
  },
  {
   "cell_type": "markdown",
   "metadata": {},
   "source": [
    "Finally, we try here the \"He Initialization\"; this is named for the first author of He et al., 2015. (If you have heard of \"Xavier initialization\", this is similar except Xavier initialization uses a scaling factor for the weights $W^{[l]}$ of `sqrt(1./layers_dims[l-1])` where He initialization would use `sqrt(2./layers_dims[l-1])`.)\n",
    "\n",
    "This function is similar to the previous `initialize_parameters_random(...)`. The only difference is that instead of multiplying `np.random.randn(..,..)` by 10, you will multiply it by $\\sqrt{\\frac{2}{\\text{dimension of the previous layer}}}$, which is what He initialization recommends for layers with a ReLU activation. "
   ]
  },
  {
   "cell_type": "code",
   "execution_count": 28,
   "metadata": {
    "collapsed": true
   },
   "outputs": [],
   "source": [
    "#  FUNCTION: initialize_parameters\n",
    "\n",
    "def initialise_parameters_he(layer_dims):\n",
    "    \"\"\"\n",
    "    Arguments:\n",
    "    layer_dims -- python array (list) containing the dimensions of each layer in our network\n",
    "    \n",
    "    Returns:\n",
    "    parameters -- python dictionary containing the parameters \"W1\", \"b1\", ..., \"WL\", \"bL\":\n",
    "                    Wl -- weight matrix of shape (layer_dims[l], layer_dims[l-1])\n",
    "                    bl -- bias vector of shape (layer_dims[l], 1)\n",
    "    \"\"\"\n",
    "    \n",
    "    \n",
    "    parameters = {}\n",
    "    L = len(layer_dims)            # number of layers in the network\n",
    "\n",
    "    for l in range(1, L):\n",
    "        parameters['W' + str(l)] = np.random.randn(layer_dims[l], layer_dims[l-1])*np.sqrt(2./layer_dims[l-1])\n",
    "        parameters['b' + str(l)] = np.zeros((layer_dims[l], 1))\n",
    "        \n",
    "            # unit tests\n",
    "        assert(parameters['W' + str(l)].shape == (layer_dims[l], layer_dims[l-1]))\n",
    "        assert(parameters['b' + str(l)].shape == (layer_dims[l], 1))\n",
    "\n",
    "        \n",
    "    return parameters"
   ]
  },
  {
   "cell_type": "markdown",
   "metadata": {},
   "source": [
    "## 6 - L2 Regularization\n",
    "\n",
    "The standard way to avoid overfitting is called **L2 regularization**. It consists of appropriately modifying your cost function, from:\n",
    "$$J = -\\frac{1}{m} \\sum\\limits_{i = 1}^{m} \\large{(}\\small  y^{(i)}\\log\\left(a^{[L](i)}\\right) + (1-y^{(i)})\\log\\left(1- a^{[L](i)}\\right) \\large{)} \\tag{1}$$\n",
    "To:\n",
    "$$J_{regularized} = \\small \\underbrace{-\\frac{1}{m} \\sum\\limits_{i = 1}^{m} \\large{(}\\small y^{(i)}\\log\\left(a^{[L](i)}\\right) + (1-y^{(i)})\\log\\left(1- a^{[L](i)}\\right) \\large{)} }_\\text{cross-entropy cost} + \\underbrace{\\frac{1}{m} \\frac{\\lambda}{2} \\sum\\limits_l\\sum\\limits_k\\sum\\limits_j W_{k,j}^{[l]2} }_\\text{L2 regularization cost} \\tag{2}$$"
   ]
  },
  {
   "cell_type": "code",
   "execution_count": 29,
   "metadata": {
    "collapsed": true
   },
   "outputs": [],
   "source": [
    "# GRADED FUNCTION: compute_cost_with_regularization\n",
    "\n",
    "def compute_cost_with_regularisation(A3, Y, parameters, lambdaHyper):\n",
    "    \"\"\"\n",
    "    Implement the cost function with L2 regularization. See formula (2) above.\n",
    "    \n",
    "    Arguments:\n",
    "    A3 -- post-activation, output of forward propagation, of shape (output size, number of examples)\n",
    "    Y -- \"true\" labels vector, of shape (output size, number of examples)\n",
    "    parameters -- python dictionary containing parameters of the model\n",
    "    lambdaHyper -- the lambda regularisation hyper-parameter.\n",
    "    \n",
    "    Returns:\n",
    "    cost - value of the regularized loss function (formula (2))\n",
    "    \"\"\"\n",
    "        # This gives you the cross-entropy part of the cost\n",
    "    cross_entropy_cost = compute_cost(A3, Y) \n",
    "   \n",
    "    sum_regularization_cost = 0\n",
    "    m = Y.shape[1]\n",
    "    L = len(parameters) // 2    # number of layers (2 because we have W and b)    \n",
    "    \n",
    "    for i in range(1, L+1):\n",
    "        W_i = parameters['W' + str(i)] \n",
    "        sum_regularization_cost += np.sum(np.square(W_i))\n",
    "    \n",
    "    regularization_cost = (1/m)*(lambdaHyper/2)*(sum_regularization_cost) \n",
    "    \n",
    "    cost = cross_entropy_cost + regularization_cost\n",
    "    \n",
    "    return cost"
   ]
  },
  {
   "cell_type": "code",
   "execution_count": 30,
   "metadata": {},
   "outputs": [
    {
     "data": {
      "text/plain": [
       "'OK'"
      ]
     },
     "execution_count": 30,
     "metadata": {},
     "output_type": "execute_result"
    }
   ],
   "source": [
    "def compute_cost_with_regularisation_test_case():\n",
    "\n",
    "    np.random.seed(1)\n",
    "    Y_assess = np.array([[1, 1, 0, 1, 0]])\n",
    "    W1 = np.random.randn(2, 3)\n",
    "    b1 = np.random.randn(2, 1)\n",
    "    W2 = np.random.randn(3, 2)\n",
    "    b2 = np.random.randn(3, 1)\n",
    "    W3 = np.random.randn(1, 3)\n",
    "    b3 = np.random.randn(1, 1)\n",
    "\n",
    "    parameters = {\"W1\": W1, \"b1\": b1, \"W2\": W2, \"b2\": b2, \"W3\": W3, \"b3\": b3}\n",
    "    a3 = np.array([[ 0.40682402,  0.01629284,  0.16722898,  0.10118111,  0.40682402]])\n",
    "\n",
    "    cost = compute_cost_with_regularisation(a3, Y_assess, parameters, lambdaHyper = 0.1)\n",
    "    \n",
    "    np.testing.assert_approx_equal(cost, 1.78649, significant=5)\n",
    "    \n",
    "    return \"OK\"\n",
    "\n",
    "compute_cost_with_regularisation_test_case()"
   ]
  },
  {
   "cell_type": "markdown",
   "metadata": {},
   "source": [
    "Of course, because we changed the cost, we have to change backward propagation as well!  \n",
    "All the gradients have to be computed with respect to this new cost: add the regularization term's gradient."
   ]
  },
  {
   "cell_type": "code",
   "execution_count": 31,
   "metadata": {
    "collapsed": true
   },
   "outputs": [],
   "source": [
    "def backward_propagation_with_regularisation(X, Y, Yhat, caches, lambdaHyper):\n",
    "    \"\"\"\n",
    "    Implements the backward propagation of our baseline model to which we added an L2 regularization.\n",
    "    \n",
    "    Arguments:\n",
    "    X -- input dataset, of shape (input size, number of examples)\n",
    "    Yhat -- \"true\" labels vector, of shape (output size, number of examples)\n",
    "    caches -- cache output from forward_propagation()\n",
    "    lambdaHyper -- regularization hyperparameter, scalar\n",
    "    \n",
    "    Returns:\n",
    "    gradients -- A dictionary with the gradients with respect to each parameter, activation and pre-activation variables\n",
    "    \"\"\"\n",
    "    \n",
    "    m = X.shape[1]\n",
    "\n",
    "\n",
    "    L = len(caches) # the number of layers\n",
    "    gradients = {}\n",
    "\n",
    "    \n",
    "    last_layer_cache = caches[L-1]\n",
    "    ((A, W, b), Z) = last_layer_cache\n",
    "\n",
    "    assert (Yhat.shape == Y.shape)\n",
    "\n",
    "\n",
    "    dZ = Yhat - Y\n",
    "    gradients[\"dZ\" + str(L)] = dZ\n",
    "\n",
    "    \n",
    "    for i in reversed(range(L-1)):\n",
    "        current_layer_cache = caches[i]\n",
    "        ((A_prev, W_prev, b_prev), Z_prev) = current_layer_cache\n",
    "        \n",
    "\n",
    "        dW_entropy = 1./m * np.dot(dZ, A.T)\n",
    "        dW_reg = (lambdaHyper/m)*W\n",
    "        dW = dW_entropy + dW_reg\n",
    "        \n",
    "        db = 1./m * np.sum(dZ, axis=1, keepdims = True)\n",
    "\n",
    "        dA_prev = np.dot(W.T, dZ)\n",
    "        dZ_prev = np.multiply(dA_prev, np.int64(A > 0))\n",
    "        \n",
    "        gradients[\"dW\" + str(i + 2)] = dW\n",
    "        gradients[\"db\" + str(i + 2)] = db\n",
    "        \n",
    "        gradients[\"dA\" + str(i + 1)] = dA_prev\n",
    "        gradients[\"dZ\" + str(i + 1)] = dZ_prev\n",
    "        \n",
    "        ((A, W, b), Z) = ((A_prev, W_prev, b_prev), Z_prev)\n",
    "        dZ = dZ_prev\n",
    "        \n",
    "        # finally add the gradients for the first layer\n",
    "    dW_prev = 1./m * np.dot(dZ_prev, X.T) + (lambdaHyper/m)*W_prev\n",
    "    db_prev = 1./m * np.sum(dZ_prev, axis=1, keepdims = True)  \n",
    "    \n",
    "    gradients[\"dW1\"] = dW_prev\n",
    "    gradients[\"db1\"] = db_prev\n",
    "    \n",
    "    return gradients"
   ]
  },
  {
   "cell_type": "markdown",
   "metadata": {},
   "source": [
    "### Putting all together"
   ]
  },
  {
   "cell_type": "code",
   "execution_count": 32,
   "metadata": {
    "collapsed": true
   },
   "outputs": [],
   "source": [
    "def NN_model(X, Y, layers_dims, learning_rate = 0.0075, \n",
    "             num_iterations = 3000, print_cost=False, \n",
    "             lambdaHyper = 0, init=\"standard\"):\n",
    "    \"\"\"\n",
    "    Implements a L-layer neural network: [LINEAR->RELU]*(L-1)->LINEAR->SIGMOID.\n",
    "    \n",
    "    Arguments:\n",
    "    X -- data, numpy array of shape (number of examples, num_px * num_px * 3)\n",
    "    Y -- true \"label\" vector (containing 0 if cat, 1 if non-cat), of shape (1, number of examples)\n",
    "    layers_dims -- list containing the input size and each layer size, of length (number of layers + 1).\n",
    "    learning_rate -- learning rate of the gradient descent update rule\n",
    "    num_iterations -- number of iterations of the optimization loop\n",
    "    print_cost -- if True, it prints the cost every 100 steps\n",
    "    lambdaHyper -- regularisation hyperparameter, scalar\n",
    "    init -- type of initialisation: standard or He.\n",
    "\n",
    "\n",
    "\n",
    "    Returns:\n",
    "    parameters -- parameters learnt by the model. They can then be used to predict.\n",
    "    \"\"\"\n",
    "\n",
    "    costs = []  # keep track of cost\n",
    "    \n",
    "    # Parameters initialization.\n",
    "    if init == \"he\":\n",
    "        parameters = initialise_parameters_he(layers_dims)\n",
    "    else:\n",
    "        parameters = initialise_parameters(layers_dims)\n",
    "\n",
    "    \n",
    "    # Loop (gradient descent)\n",
    "    for i in range(0, num_iterations):\n",
    "\n",
    "        # Forward propagation: [LINEAR -> RELU]*(L-1) -> LINEAR -> SIGMOID.\n",
    "        Yhat, caches = L_model_forward(X, parameters)\n",
    "        \n",
    "        # Compute cost.\n",
    "        if lambdaHyper == 0:\n",
    "            cost = compute_cost(Yhat, Y)\n",
    "        else:\n",
    "            cost = compute_cost_with_regularisation(Yhat, Y, parameters, lambdaHyper)            \n",
    "    \n",
    "        # Backward propagation.\n",
    "        if lambdaHyper == 0:\n",
    "            grads = L_model_backward(Yhat, Y, caches)\n",
    "        else:\n",
    "            grads = backward_propagation_with_regularisation(X, Y, Yhat, caches, lambdaHyper)\n",
    "\n",
    "\n",
    " \n",
    "        # Update parameters.\n",
    "        parameters = update_parameters(parameters, grads, learning_rate)\n",
    "                \n",
    "        # Print the cost every 200 training example\n",
    "        if print_cost and i % 200 == 0:\n",
    "            print (\"Cost after iteration %i: %f\" %(i, cost))\n",
    "        if print_cost and i % 200 == 0:\n",
    "            costs.append(cost)\n",
    "            \n",
    "    # plot the cost\n",
    "    plt.plot(np.squeeze(costs))\n",
    "    plt.ylabel('cost')\n",
    "    plt.xlabel('iterations (per tens)')\n",
    "    plt.title(\"Learning rate =\" + str(learning_rate))\n",
    "    plt.show()\n",
    "    \n",
    "    return parameters"
   ]
  },
  {
   "cell_type": "code",
   "execution_count": 33,
   "metadata": {},
   "outputs": [
    {
     "name": "stdout",
     "output_type": "stream",
     "text": [
      "Cost after iteration 0: 8.494136\n",
      "Cost after iteration 200: 0.711390\n",
      "Cost after iteration 400: 0.592396\n",
      "Cost after iteration 600: 0.535481\n",
      "Cost after iteration 800: 0.500674\n",
      "Cost after iteration 1000: 0.476576\n",
      "Cost after iteration 1200: 0.459300\n",
      "Cost after iteration 1400: 0.446412\n",
      "Cost after iteration 1600: 0.436147\n",
      "Cost after iteration 1800: 0.427111\n",
      "Cost after iteration 2000: 0.419631\n",
      "Cost after iteration 2200: 0.413469\n",
      "Cost after iteration 2400: 0.408086\n",
      "Cost after iteration 2600: 0.403281\n",
      "Cost after iteration 2800: 0.398824\n",
      "Cost after iteration 3000: 0.394866\n",
      "Cost after iteration 3200: 0.391269\n",
      "Cost after iteration 3400: 0.388094\n"
     ]
    },
    {
     "data": {
      "image/png": "[encoded data removed]",
      "text/plain": [
       "<matplotlib.figure.Figure at 0x11c3e1358>"
      ]
     },
     "metadata": {},
     "output_type": "display_data"
    }
   ],
   "source": [
    "fit_params_reg = NN_model(train_set_x, train_set_y, nn_layers, \n",
    "                      learning_rate = 0.3, num_iterations = 3500, print_cost = True,\n",
    "                      lambdaHyper = 5, init=\"he\")"
   ]
  },
  {
   "cell_type": "markdown",
   "metadata": {},
   "source": [
    "Let's check the new accuracy values:"
   ]
  },
  {
   "cell_type": "code",
   "execution_count": 34,
   "metadata": {},
   "outputs": [
    {
     "name": "stdout",
     "output_type": "stream",
     "text": [
      "On the training set:\n",
      "Accuracy: 0.9855\n",
      "On the test set:\n",
      "Accuracy: 0.939\n"
     ]
    }
   ],
   "source": [
    "print (\"On the training set:\")\n",
    "predictions_train = predict(train_set_x, train_set_y, fit_params_reg)\n",
    "print (\"On the test set:\")\n",
    "predictions_test = predict(X_test.T, y_test.T, fit_params_reg)"
   ]
  },
  {
   "cell_type": "markdown",
   "metadata": {},
   "source": [
    "## 7 - Dropout\n",
    "\n",
    "Finally, **dropout** is a widely used regularization technique that is specific to deep learning.   \n",
    "**It randomly shuts down some neurons in each iteration.** \n",
    "\n",
    "When you shut some neurons down, you actually modify your model. The idea behind drop-out is that at each iteration, you train a different model that uses only a subset of your neurons. With dropout, your neurons thus become less sensitive to the activation of one other specific neuron, because that other neuron might be shut down at any time. \n",
    "\n"
   ]
  },
  {
   "cell_type": "code",
   "execution_count": 35,
   "metadata": {
    "collapsed": true
   },
   "outputs": [],
   "source": [
    "def forward_propagation_with_dropout(X, parameters, keep_prob = 0.5):\n",
    "    \"\"\"\n",
    "    Implements the forward propagation: LINEAR -> RELU + DROPOUT -> LINEAR -> RELU + DROPOUT -> LINEAR -> SIGMOID.\n",
    "    \n",
    "    Arguments:\n",
    "    X -- input dataset, of shape (2, number of examples)\n",
    "    parameters -- python dictionary containing the parameters of a 3-layers network.\n",
    "    keep_prob - probability of keeping a neuron active during drop-out, scalar\n",
    "    \n",
    "    Returns:\n",
    "    A2 -- last activation value, output of the forward propagation, of shape (1,1)\n",
    "    cache -- tuple, information stored for computing the backward propagation\n",
    "    \"\"\"\n",
    "    L = len(parameters) // 2                  # number of layers in the neural network\n",
    "\n",
    "    \n",
    "        \n",
    "    # retrieve parameters\n",
    "    W1 = parameters[\"W1\"]\n",
    "    b1 = parameters[\"b1\"]\n",
    "    W2 = parameters[\"W2\"]\n",
    "    b2 = parameters[\"b2\"]\n",
    "\n",
    "    \n",
    "    # LINEAR -> RELU -> LINEAR -> RELU -> LINEAR -> SIGMOID\n",
    "    Z1 = np.dot(W1, X) + b1\n",
    "    A1,cache_temp = relu(Z1)\n",
    "\n",
    "    D1 = np.random.rand(A1.shape[0], A1.shape[1])     # Step 1: initialize matrix D1 = np.random.rand(..., ...)\n",
    "    D1 = D1 < keep_prob     # Step 2: convert entries of D1 to 0 or 1 (using keep_prob as the threshold)\n",
    "    A1 = A1*D1                                 # Step 3: shut down some neurons of A1\n",
    "    A1 = A1 / keep_prob                         # Step 4: scale the value of neurons that haven't been shut down\n",
    "\n",
    "    Z2 = np.dot(W2, A1) + b2\n",
    "    A2, cache_temp = sigmoid(Z2)\n",
    "    \n",
    "    caches = (Z1, D1, A1, W1, b1, Z2, A2, W2, b2)\n",
    "    \n",
    "    return A2, caches"
   ]
  },
  {
   "cell_type": "code",
   "execution_count": 36,
   "metadata": {
    "collapsed": true
   },
   "outputs": [],
   "source": [
    "def backward_propagation_with_dropout(X, Y, cache, keep_prob):\n",
    "    \"\"\"\n",
    "    Implements the backward propagation of our baseline model to which we added dropout.\n",
    "    \n",
    "    Arguments:\n",
    "    X -- input dataset, of shape (2, number of examples)\n",
    "    Y -- \"true\" labels vector, of shape (output size, number of examples)\n",
    "    cache -- cache output from forward_propagation_with_dropout()\n",
    "    keep_prob - probability of keeping a neuron active during drop-out, scalar\n",
    "    \n",
    "    Returns:\n",
    "    gradients -- A dictionary with the gradients with respect to each parameter, activation and pre-activation variables\n",
    "    \"\"\"\n",
    "    \n",
    "    m = X.shape[1]\n",
    "    (Z1, D1, A1, W1, b1, Z2, A2, W2, b2) = cache\n",
    "\n",
    "    \n",
    "    dZ2 = A2 - Y\n",
    "    \n",
    "    dW2 = 1./m * np.dot(dZ2, A1.T)\n",
    "    db2 = 1./m * np.sum(dZ2, axis=1, keepdims = True)\n",
    "    \n",
    "    dA1 = np.dot(W2.T, dZ2)\n",
    "\n",
    "    dA1 = dA1*D1              # Step 1: Apply mask D1 to shut down the same neurons as during the forward propagation\n",
    "    dA1 = dA1 / keep_prob       # Step 2: Scale the value of neurons that haven't been shut down\n",
    "\n",
    "    dZ1 = np.multiply(dA1, np.int64(A1 > 0))\n",
    "    dW1 = 1./m * np.dot(dZ1, X.T)\n",
    "    db1 = 1./m * np.sum(dZ1, axis=1, keepdims = True)\n",
    "    \n",
    "    gradients = {\"dZ2\": dZ2, \"dW2\": dW2, \"db2\": db2, \"dA1\": dA1, \n",
    "                 \"dZ1\": dZ1, \"dW1\": dW1, \"db1\": db1}\n",
    "    \n",
    "    return gradients"
   ]
  },
  {
   "cell_type": "code",
   "execution_count": 37,
   "metadata": {
    "collapsed": true
   },
   "outputs": [],
   "source": [
    "def NN_model_drop(X, Y, layers_dims, learning_rate = 0.0075, \n",
    "             num_iterations = 3000, print_cost=False, \n",
    "             keep_prob = 1, init=\"standard\"):\n",
    "    \"\"\"\n",
    "    Implements a L-layer neural network: [LINEAR->RELU]*(L-1)->LINEAR->SIGMOID.\n",
    "    \n",
    "    Arguments:\n",
    "    X -- data, numpy array of shape (number of examples, num_px * num_px * 3)\n",
    "    Y -- true \"label\" vector (containing 0 if cat, 1 if non-cat), of shape (1, number of examples)\n",
    "    layers_dims -- list containing the input size and each layer size, of length (number of layers + 1).\n",
    "    learning_rate -- learning rate of the gradient descent update rule\n",
    "    num_iterations -- number of iterations of the optimization loop\n",
    "    print_cost -- if True, it prints the cost every 100 steps\n",
    "    \n",
    "    Returns:\n",
    "    parameters -- parameters learnt by the model. They can then be used to predict.\n",
    "    \"\"\"\n",
    "\n",
    "    costs = []  # keep track of cost\n",
    "    \n",
    "    # Parameters initialization.\n",
    "    if init == \"he\":\n",
    "        parameters = initialise_parameters_he(layers_dims)\n",
    "    else:\n",
    "        parameters = initialise_parameters(layers_dims)\n",
    "\n",
    "    \n",
    "    # Loop (gradient descent)\n",
    "    for i in range(0, num_iterations):\n",
    "\n",
    "        # Forward propagation: [LINEAR -> RELU]*(L-1) -> LINEAR -> SIGMOID.\n",
    "        Yhat, caches = forward_propagation_with_dropout(X, parameters, keep_prob)\n",
    "        \n",
    "        # Compute cost.\n",
    "        cost = compute_cost(Yhat, Y)\n",
    "    \n",
    "        # Backward propagation.\n",
    "        grads = backward_propagation_with_dropout(X, Y, caches, keep_prob)\n",
    "\n",
    "\n",
    " \n",
    "        # Update parameters.\n",
    "        parameters = update_parameters(parameters, grads, learning_rate)\n",
    "                \n",
    "        # Print the cost every 200 training example\n",
    "        if print_cost and i % 200 == 0:\n",
    "            print (\"Cost after iteration %i: %f\" %(i, cost))\n",
    "        if print_cost and i % 200 == 0:\n",
    "            costs.append(cost)\n",
    "            \n",
    "    # plot the cost\n",
    "    plt.plot(np.squeeze(costs))\n",
    "    plt.ylabel('cost')\n",
    "    plt.xlabel('iterations (per tens)')\n",
    "    plt.title(\"Learning rate =\" + str(learning_rate))\n",
    "    plt.show()\n",
    "    \n",
    "    return parameters"
   ]
  },
  {
   "cell_type": "code",
   "execution_count": 38,
   "metadata": {},
   "outputs": [
    {
     "name": "stdout",
     "output_type": "stream",
     "text": [
      "Cost after iteration 0: 6.637041\n",
      "Cost after iteration 200: 0.872340\n",
      "Cost after iteration 400: 0.686235\n",
      "Cost after iteration 600: 0.590146\n",
      "Cost after iteration 800: 0.544884\n",
      "Cost after iteration 1000: 0.510920\n",
      "Cost after iteration 1200: 0.478561\n",
      "Cost after iteration 1400: 0.451083\n",
      "Cost after iteration 1600: 0.420292\n",
      "Cost after iteration 1800: 0.402299\n",
      "Cost after iteration 2000: 0.380131\n",
      "Cost after iteration 2200: 0.371170\n",
      "Cost after iteration 2400: 0.373264\n",
      "Cost after iteration 2600: 0.351920\n",
      "Cost after iteration 2800: 0.341553\n",
      "Cost after iteration 3000: 0.338320\n",
      "Cost after iteration 3200: 0.331876\n",
      "Cost after iteration 3400: 0.322079\n"
     ]
    },
    {
     "data": {
      "image/png": "[encoded data removed]",
      "text/plain": [
       "<matplotlib.figure.Figure at 0x11c3b2f98>"
      ]
     },
     "metadata": {},
     "output_type": "display_data"
    },
    {
     "name": "stdout",
     "output_type": "stream",
     "text": [
      "On the train set:\n",
      "Accuracy: 0.98675\n",
      "On the test set:\n",
      "Accuracy: 0.928\n"
     ]
    }
   ],
   "source": [
    "fit_params_drop = NN_model_drop(train_set_x, train_set_y, nn_layers, \n",
    "                            learning_rate = 0.3, num_iterations = 3500, print_cost = True,\n",
    "                            keep_prob = 0.8, init=\"he\")\n",
    "\n",
    "print (\"On the train set:\")\n",
    "predictions_train = predict(train_set_x, train_set_y, fit_params_drop)\n",
    "print (\"On the test set:\")\n",
    "predictions_test = predict(X_test.T, y_test.T, fit_params_drop)"
   ]
  },
  {
   "cell_type": "markdown",
   "metadata": {},
   "source": [
    "Even higher accuracy could be obtained, by systematically searching for better hyperparameters (learning_rate, layers_dims, num_iterations)."
   ]
  }
 ],
 "metadata": {
  "anaconda-cloud": {},
  "coursera": {
   "course_slug": "neural-networks-deep-learning",
   "graded_item_id": "XaIWT",
   "launcher_item_id": "zAgPl"
  },
  "kernelspec": {
   "display_name": "Python [default]",
   "language": "python",
   "name": "python3"
  },
  "language_info": {
   "codemirror_mode": {
    "name": "ipython",
    "version": 3
   },
   "file_extension": ".py",
   "mimetype": "text/x-python",
   "name": "python",
   "nbconvert_exporter": "python",
   "pygments_lexer": "ipython3",
   "version": "3.5.2"
  }
 },
 "nbformat": 4,
 "nbformat_minor": 2
}
